{
 "cells": [
  {
   "cell_type": "markdown",
   "metadata": {},
   "source": [
    "# PROJECT 6\n",
    "# PIPELINE 3 TRAIN"
   ]
  },
  {
   "cell_type": "markdown",
   "metadata": {},
   "source": [
    "# BONUS: \n",
    "Present: Command is executed via command line script"
   ]
  },
  {
   "cell_type": "code",
   "execution_count": null,
   "metadata": {
    "collapsed": true
   },
   "outputs": [],
   "source": [
    "import os\n",
    "os.chdir('./lib')"
   ]
  },
  {
   "cell_type": "code",
   "execution_count": 1,
   "metadata": {
    "collapsed": true
   },
   "outputs": [],
   "source": [
    "import database_module_updt as db\n",
    "import encoding_module as enc\n",
    "import wiki_module_copy as wiki\n",
    "import pandas as pd\n",
    "import numpy as np\n",
    "import random"
   ]
  },
  {
   "cell_type": "code",
   "execution_count": null,
   "metadata": {
    "collapsed": true
   },
   "outputs": [],
   "source": [
    "select_page_vectors ( page_ids, location = 'remote')"
   ]
  },
  {
   "cell_type": "code",
   "execution_count": 2,
   "metadata": {
    "collapsed": false
   },
   "outputs": [
    {
     "data": {
      "text/plain": [
       "[0, 1, 2, 3, 4, 5, 6, 7, 8, 9, 10, 11, 12, 13, 14, 15, 16, 17]"
      ]
     },
     "execution_count": 2,
     "metadata": {},
     "output_type": "execute_result"
    }
   ],
   "source": [
    "categories = list(range(18))\n",
    "categories"
   ]
  },
  {
   "cell_type": "code",
   "execution_count": 3,
   "metadata": {
    "collapsed": true
   },
   "outputs": [],
   "source": [
    "X = []\n",
    "y = []\n",
    "for _ in range(1800):\n",
    "    dummy_vec = np.random.rand(500)\n",
    "    dummy_cat = random.sample(categories, 1)\n",
    "    dummy_vec += dummy_cat\n",
    "    y.append(dummy_cat)\n",
    "    X.append(dummy_vec)"
   ]
  },
  {
   "cell_type": "code",
   "execution_count": 4,
   "metadata": {
    "collapsed": true
   },
   "outputs": [],
   "source": [
    "X = np.array(X)\n",
    "y = np.array(y)"
   ]
  },
  {
   "cell_type": "code",
   "execution_count": 5,
   "metadata": {
    "collapsed": false
   },
   "outputs": [
    {
     "data": {
      "text/plain": [
       "((1800, 500), (1800, 1))"
      ]
     },
     "execution_count": 5,
     "metadata": {},
     "output_type": "execute_result"
    }
   ],
   "source": [
    "X.shape, y.shape"
   ]
  },
  {
   "cell_type": "code",
   "execution_count": 6,
   "metadata": {
    "collapsed": true
   },
   "outputs": [],
   "source": [
    "import pandas as pd\n",
    "data_df = pd.DataFrame(X)\n",
    "target_df = pd.DataFrame(y)"
   ]
  },
  {
   "cell_type": "code",
   "execution_count": 7,
   "metadata": {
    "collapsed": true
   },
   "outputs": [],
   "source": [
    "from sklearn.preprocessing import StandardScaler\n",
    "from sklearn.model_selection import train_test_split"
   ]
  },
  {
   "cell_type": "code",
   "execution_count": 8,
   "metadata": {
    "collapsed": true
   },
   "outputs": [],
   "source": [
    "X_train, X_test, y_train, y_test = train_test_split(data_df, target_df)\n"
   ]
  },
  {
   "cell_type": "code",
   "execution_count": 9,
   "metadata": {
    "collapsed": true
   },
   "outputs": [],
   "source": [
    "this_sc = StandardScaler()\n",
    "this_sc.fit(X_train)\n",
    "X_train = this_sc.transform(X_train)\n",
    "X_test = this_sc.transform(X_test)"
   ]
  },
  {
   "cell_type": "code",
   "execution_count": 11,
   "metadata": {
    "collapsed": true
   },
   "outputs": [],
   "source": [
    "from sklearn.ensemble import RandomForestClassifier\n",
    "this_rf = RandomForestClassifier()"
   ]
  },
  {
   "cell_type": "code",
   "execution_count": 12,
   "metadata": {
    "collapsed": false
   },
   "outputs": [
    {
     "name": "stderr",
     "output_type": "stream",
     "text": [
      "/Users/ginodefalco/anaconda/lib/python2.7/site-packages/ipykernel/__main__.py:1: DataConversionWarning: A column-vector y was passed when a 1d array was expected. Please change the shape of y to (n_samples,), for example using ravel().\n",
      "  if __name__ == '__main__':\n"
     ]
    },
    {
     "data": {
      "text/plain": [
       "RandomForestClassifier(bootstrap=True, class_weight=None, criterion='gini',\n",
       "            max_depth=None, max_features='auto', max_leaf_nodes=None,\n",
       "            min_impurity_split=1e-07, min_samples_leaf=1,\n",
       "            min_samples_split=2, min_weight_fraction_leaf=0.0,\n",
       "            n_estimators=10, n_jobs=1, oob_score=False, random_state=None,\n",
       "            verbose=0, warm_start=False)"
      ]
     },
     "execution_count": 12,
     "metadata": {},
     "output_type": "execute_result"
    }
   ],
   "source": [
    "this_rf.fit(X_train, y_train)\n"
   ]
  },
  {
   "cell_type": "code",
   "execution_count": 13,
   "metadata": {
    "collapsed": false,
    "scrolled": false
   },
   "outputs": [
    {
     "data": {
      "text/plain": [
       "(1.0, 1.0)"
      ]
     },
     "execution_count": 13,
     "metadata": {},
     "output_type": "execute_result"
    }
   ],
   "source": [
    "this_rf.score(X_train, y_train), this_rf.score(X_test, y_test)\n"
   ]
  },
  {
   "cell_type": "code",
   "execution_count": 14,
   "metadata": {
    "collapsed": false,
    "scrolled": true
   },
   "outputs": [
    {
     "data": {
      "text/html": [
       "<div>\n",
       "<table border=\"1\" class=\"dataframe\">\n",
       "  <thead>\n",
       "    <tr style=\"text-align: right;\">\n",
       "      <th></th>\n",
       "      <th>0</th>\n",
       "      <th>1</th>\n",
       "      <th>2</th>\n",
       "      <th>3</th>\n",
       "      <th>4</th>\n",
       "      <th>5</th>\n",
       "      <th>6</th>\n",
       "      <th>7</th>\n",
       "      <th>8</th>\n",
       "      <th>9</th>\n",
       "      <th>...</th>\n",
       "      <th>490</th>\n",
       "      <th>491</th>\n",
       "      <th>492</th>\n",
       "      <th>493</th>\n",
       "      <th>494</th>\n",
       "      <th>495</th>\n",
       "      <th>496</th>\n",
       "      <th>497</th>\n",
       "      <th>498</th>\n",
       "      <th>499</th>\n",
       "    </tr>\n",
       "  </thead>\n",
       "  <tbody>\n",
       "    <tr>\n",
       "      <th>0</th>\n",
       "      <td>14.116883</td>\n",
       "      <td>14.084138</td>\n",
       "      <td>14.441358</td>\n",
       "      <td>14.587792</td>\n",
       "      <td>14.142718</td>\n",
       "      <td>14.645879</td>\n",
       "      <td>14.077862</td>\n",
       "      <td>14.231672</td>\n",
       "      <td>14.148087</td>\n",
       "      <td>14.413112</td>\n",
       "      <td>...</td>\n",
       "      <td>14.267805</td>\n",
       "      <td>14.795214</td>\n",
       "      <td>14.027337</td>\n",
       "      <td>14.546461</td>\n",
       "      <td>14.816540</td>\n",
       "      <td>14.860751</td>\n",
       "      <td>14.490524</td>\n",
       "      <td>14.305481</td>\n",
       "      <td>14.076063</td>\n",
       "      <td>14.158899</td>\n",
       "    </tr>\n",
       "    <tr>\n",
       "      <th>1</th>\n",
       "      <td>14.863665</td>\n",
       "      <td>14.157424</td>\n",
       "      <td>14.942865</td>\n",
       "      <td>14.928995</td>\n",
       "      <td>14.137775</td>\n",
       "      <td>14.112562</td>\n",
       "      <td>14.831412</td>\n",
       "      <td>14.728098</td>\n",
       "      <td>14.796891</td>\n",
       "      <td>14.232638</td>\n",
       "      <td>...</td>\n",
       "      <td>14.004458</td>\n",
       "      <td>14.380517</td>\n",
       "      <td>14.984790</td>\n",
       "      <td>14.427499</td>\n",
       "      <td>14.317008</td>\n",
       "      <td>14.486429</td>\n",
       "      <td>14.729062</td>\n",
       "      <td>14.513886</td>\n",
       "      <td>14.358968</td>\n",
       "      <td>14.443134</td>\n",
       "    </tr>\n",
       "    <tr>\n",
       "      <th>2</th>\n",
       "      <td>7.903510</td>\n",
       "      <td>7.855092</td>\n",
       "      <td>7.199909</td>\n",
       "      <td>7.480311</td>\n",
       "      <td>7.399990</td>\n",
       "      <td>7.854343</td>\n",
       "      <td>7.164234</td>\n",
       "      <td>7.927590</td>\n",
       "      <td>7.365603</td>\n",
       "      <td>7.776600</td>\n",
       "      <td>...</td>\n",
       "      <td>7.804050</td>\n",
       "      <td>7.082643</td>\n",
       "      <td>7.444929</td>\n",
       "      <td>7.458599</td>\n",
       "      <td>7.969217</td>\n",
       "      <td>7.851098</td>\n",
       "      <td>7.258761</td>\n",
       "      <td>7.810952</td>\n",
       "      <td>7.780696</td>\n",
       "      <td>7.032709</td>\n",
       "    </tr>\n",
       "    <tr>\n",
       "      <th>3</th>\n",
       "      <td>14.288695</td>\n",
       "      <td>14.413178</td>\n",
       "      <td>14.493922</td>\n",
       "      <td>14.651809</td>\n",
       "      <td>14.221874</td>\n",
       "      <td>14.641491</td>\n",
       "      <td>14.568695</td>\n",
       "      <td>14.950911</td>\n",
       "      <td>14.489646</td>\n",
       "      <td>14.809869</td>\n",
       "      <td>...</td>\n",
       "      <td>14.642419</td>\n",
       "      <td>14.181992</td>\n",
       "      <td>14.426291</td>\n",
       "      <td>14.952149</td>\n",
       "      <td>14.924907</td>\n",
       "      <td>14.493826</td>\n",
       "      <td>14.408849</td>\n",
       "      <td>14.368517</td>\n",
       "      <td>14.697816</td>\n",
       "      <td>14.157157</td>\n",
       "    </tr>\n",
       "    <tr>\n",
       "      <th>4</th>\n",
       "      <td>17.571577</td>\n",
       "      <td>17.211553</td>\n",
       "      <td>17.626176</td>\n",
       "      <td>17.751859</td>\n",
       "      <td>17.427879</td>\n",
       "      <td>17.473822</td>\n",
       "      <td>17.138569</td>\n",
       "      <td>17.806846</td>\n",
       "      <td>17.368792</td>\n",
       "      <td>17.642416</td>\n",
       "      <td>...</td>\n",
       "      <td>17.438946</td>\n",
       "      <td>17.992390</td>\n",
       "      <td>17.344557</td>\n",
       "      <td>17.609371</td>\n",
       "      <td>17.710435</td>\n",
       "      <td>17.849064</td>\n",
       "      <td>17.410353</td>\n",
       "      <td>17.408984</td>\n",
       "      <td>17.877081</td>\n",
       "      <td>17.318032</td>\n",
       "    </tr>\n",
       "  </tbody>\n",
       "</table>\n",
       "<p>5 rows × 500 columns</p>\n",
       "</div>"
      ],
      "text/plain": [
       "         0          1          2          3          4          5    \\\n",
       "0  14.116883  14.084138  14.441358  14.587792  14.142718  14.645879   \n",
       "1  14.863665  14.157424  14.942865  14.928995  14.137775  14.112562   \n",
       "2   7.903510   7.855092   7.199909   7.480311   7.399990   7.854343   \n",
       "3  14.288695  14.413178  14.493922  14.651809  14.221874  14.641491   \n",
       "4  17.571577  17.211553  17.626176  17.751859  17.427879  17.473822   \n",
       "\n",
       "         6          7          8          9      ...            490  \\\n",
       "0  14.077862  14.231672  14.148087  14.413112    ...      14.267805   \n",
       "1  14.831412  14.728098  14.796891  14.232638    ...      14.004458   \n",
       "2   7.164234   7.927590   7.365603   7.776600    ...       7.804050   \n",
       "3  14.568695  14.950911  14.489646  14.809869    ...      14.642419   \n",
       "4  17.138569  17.806846  17.368792  17.642416    ...      17.438946   \n",
       "\n",
       "         491        492        493        494        495        496  \\\n",
       "0  14.795214  14.027337  14.546461  14.816540  14.860751  14.490524   \n",
       "1  14.380517  14.984790  14.427499  14.317008  14.486429  14.729062   \n",
       "2   7.082643   7.444929   7.458599   7.969217   7.851098   7.258761   \n",
       "3  14.181992  14.426291  14.952149  14.924907  14.493826  14.408849   \n",
       "4  17.992390  17.344557  17.609371  17.710435  17.849064  17.410353   \n",
       "\n",
       "         497        498        499  \n",
       "0  14.305481  14.076063  14.158899  \n",
       "1  14.513886  14.358968  14.443134  \n",
       "2   7.810952   7.780696   7.032709  \n",
       "3  14.368517  14.697816  14.157157  \n",
       "4  17.408984  17.877081  17.318032  \n",
       "\n",
       "[5 rows x 500 columns]"
      ]
     },
     "execution_count": 14,
     "metadata": {},
     "output_type": "execute_result"
    }
   ],
   "source": [
    "data_df.head()"
   ]
  },
  {
   "cell_type": "code",
   "execution_count": 15,
   "metadata": {
    "collapsed": false,
    "scrolled": true
   },
   "outputs": [
    {
     "data": {
      "text/html": [
       "<div>\n",
       "<table border=\"1\" class=\"dataframe\">\n",
       "  <thead>\n",
       "    <tr style=\"text-align: right;\">\n",
       "      <th></th>\n",
       "      <th>0</th>\n",
       "    </tr>\n",
       "  </thead>\n",
       "  <tbody>\n",
       "    <tr>\n",
       "      <th>0</th>\n",
       "      <td>14</td>\n",
       "    </tr>\n",
       "    <tr>\n",
       "      <th>1</th>\n",
       "      <td>14</td>\n",
       "    </tr>\n",
       "    <tr>\n",
       "      <th>2</th>\n",
       "      <td>7</td>\n",
       "    </tr>\n",
       "    <tr>\n",
       "      <th>3</th>\n",
       "      <td>14</td>\n",
       "    </tr>\n",
       "    <tr>\n",
       "      <th>4</th>\n",
       "      <td>17</td>\n",
       "    </tr>\n",
       "  </tbody>\n",
       "</table>\n",
       "</div>"
      ],
      "text/plain": [
       "    0\n",
       "0  14\n",
       "1  14\n",
       "2   7\n",
       "3  14\n",
       "4  17"
      ]
     },
     "execution_count": 15,
     "metadata": {},
     "output_type": "execute_result"
    }
   ],
   "source": [
    "target_df.head()"
   ]
  },
  {
   "cell_type": "code",
   "execution_count": 16,
   "metadata": {
    "collapsed": true
   },
   "outputs": [],
   "source": [
    "data_df.to_pickle('data.pickle')\n",
    "target_df.to_pickle('target.pickle')"
   ]
  },
  {
   "cell_type": "markdown",
   "metadata": {},
   "source": [
    "# Mine: Select document vectors for all pages from database"
   ]
  },
  {
   "cell_type": "code",
   "execution_count": null,
   "metadata": {
    "collapsed": true
   },
   "outputs": [],
   "source": [
    "# X\n"
   ]
  },
  {
   "cell_type": "markdown",
   "metadata": {},
   "source": [
    "# Mine: Select category ids corresponding to pages from database"
   ]
  },
  {
   "cell_type": "code",
   "execution_count": null,
   "metadata": {
    "collapsed": true
   },
   "outputs": [],
   "source": [
    "# y (1800 x 1)"
   ]
  },
  {
   "cell_type": "markdown",
   "metadata": {},
   "source": [
    "# Refine: Create a data dictionary with training and testing sets\n",
    "\n",
    "Begin development using local dummy data"
   ]
  },
  {
   "cell_type": "code",
   "execution_count": 1,
   "metadata": {
    "collapsed": false
   },
   "outputs": [],
   "source": [
    "import pandas as pd"
   ]
  },
  {
   "cell_type": "code",
   "execution_count": 22,
   "metadata": {
    "collapsed": false
   },
   "outputs": [],
   "source": [
    "# data_df = select document vectors from database\n",
    "# target_df = select corresponding category id's from each document in database\n",
    "\n",
    "data_df = pd.read_pickle('/Users/ginodefalco/dsi/dsi_repo/DSI_SM_3/projects/project-06/data/data.pickle')\n",
    "target_df = pd.read_pickle('/Users/ginodefalco/dsi/dsi_repo/DSI_SM_3/projects/project-06/data/target.pickle')\n",
    "\n",
    "\n"
   ]
  },
  {
   "cell_type": "code",
   "execution_count": 23,
   "metadata": {
    "collapsed": false
   },
   "outputs": [],
   "source": [
    "from sklearn.model_selection import train_test_split\n",
    "\n",
    "X_train, X_test, y_train, y_test = train_test_split(data_df, target_df, random_state=42)\n",
    "\n",
    "data_dictionary = {\n",
    "    'X' : data_df,\n",
    "    'y' : target_df,\n",
    "    'X_train' : X_train,\n",
    "    'y_train' : y_train,\n",
    "    'X_test' : X_test,\n",
    "    'y_test' : y_test,\n",
    "}"
   ]
  },
  {
   "cell_type": "markdown",
   "metadata": {},
   "source": [
    "# Model: Fit, Score, and Tune a multi-label classification model"
   ]
  },
  {
   "cell_type": "code",
   "execution_count": 24,
   "metadata": {
    "collapsed": true
   },
   "outputs": [],
   "source": [
    "from sklearn.neighbors import KNeighborsClassifier\n",
    "from sklearn.naive_bayes import GaussianNB"
   ]
  },
  {
   "cell_type": "code",
   "execution_count": 25,
   "metadata": {
    "collapsed": false,
    "scrolled": true
   },
   "outputs": [
    {
     "data": {
      "text/plain": [
       "GaussianNB(priors=None)"
      ]
     },
     "execution_count": 25,
     "metadata": {},
     "output_type": "execute_result"
    }
   ],
   "source": [
    "this_naive_classifier = GaussianNB()\n",
    "this_naive_classifier.fit(data_dictionary['X_train'], data_dictionary['y_train'])"
   ]
  },
  {
   "cell_type": "code",
   "execution_count": 26,
   "metadata": {
    "collapsed": false
   },
   "outputs": [
    {
     "name": "stdout",
     "output_type": "stream",
     "text": [
      "train: 0.765333333333 test 0.564\n"
     ]
    }
   ],
   "source": [
    "train_score = this_naive_classifier.score(data_dictionary['X_train'], data_dictionary['y_train'])\n",
    "\n",
    "test_score = this_naive_classifier.score(data_dictionary['X_test'], data_dictionary['y_test'])\n",
    "\n",
    "print(\"train: {} test {}\".format(train_score, test_score))"
   ]
  },
  {
   "cell_type": "markdown",
   "metadata": {},
   "source": [
    "# Present: Pickle tuned model for later use\t"
   ]
  },
  {
   "cell_type": "code",
   "execution_count": 27,
   "metadata": {
    "collapsed": true
   },
   "outputs": [],
   "source": [
    "from sklearn.externals import joblib"
   ]
  },
  {
   "cell_type": "code",
   "execution_count": 28,
   "metadata": {
    "collapsed": false
   },
   "outputs": [
    {
     "data": {
      "text/plain": [
       "['my_pickled_model.pickle']"
      ]
     },
     "execution_count": 28,
     "metadata": {},
     "output_type": "execute_result"
    }
   ],
   "source": [
    "joblib.dump(this_naive_classifier, \"my_pickled_model.pickle\")"
   ]
  },
  {
   "cell_type": "code",
   "execution_count": 29,
   "metadata": {
    "collapsed": true
   },
   "outputs": [],
   "source": [
    "from_pkl_cls = joblib.load(\"my_pickled_model.pickle\")"
   ]
  },
  {
   "cell_type": "code",
   "execution_count": 30,
   "metadata": {
    "collapsed": false
   },
   "outputs": [
    {
     "data": {
      "text/plain": [
       "0.76533333333333331"
      ]
     },
     "execution_count": 30,
     "metadata": {},
     "output_type": "execute_result"
    }
   ],
   "source": [
    "from_pkl_cls.score(data_dictionary['X_train'], data_dictionary['y_train'])"
   ]
  },
  {
   "cell_type": "code",
   "execution_count": null,
   "metadata": {
    "collapsed": true
   },
   "outputs": [],
   "source": []
  }
 ],
 "metadata": {
  "anaconda-cloud": {},
  "kernelspec": {
   "display_name": "Python [conda root]",
   "language": "python",
   "name": "conda-root-py"
  },
  "language_info": {
   "codemirror_mode": {
    "name": "ipython",
    "version": 2
   },
   "file_extension": ".py",
   "mimetype": "text/x-python",
   "name": "python",
   "nbconvert_exporter": "python",
   "pygments_lexer": "ipython2",
   "version": "2.7.12"
  }
 },
 "nbformat": 4,
 "nbformat_minor": 1
}
