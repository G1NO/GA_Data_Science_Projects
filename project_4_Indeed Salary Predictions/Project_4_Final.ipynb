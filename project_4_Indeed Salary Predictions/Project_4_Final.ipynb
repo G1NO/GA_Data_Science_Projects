{
 "cells": [
  {
   "cell_type": "code",
   "execution_count": 2,
   "metadata": {
    "collapsed": false,
    "focus": false,
    "id": "2efefc73-064a-482d-b3b5-ddf5508cb4ec"
   },
   "outputs": [],
   "source": [
    "import re\n",
    "import itertools\n",
    "import numpy as np\n",
    "import pandas as pd\n",
    "import seaborn as sns\n",
    "import requests\n",
    "import bs4\n",
    "from bs4 import BeautifulSoup\n",
    "import matplotlib.pyplot as plt\n",
    "import statsmodels.formula.api as sm\n",
    "%matplotlib inline\n",
    "\n",
    "from sklearn.svm import SVC\n",
    "from sklearn.metrics import confusion_matrix\n",
    "from sklearn.feature_selection import RFE, RFECV\n",
    "from sklearn.linear_model import LogisticRegression\n",
    "from sklearn.cross_validation import train_test_split, KFold\n",
    "from sklearn.model_selection import GridSearchCV, StratifiedKFold"
   ]
  },
  {
   "cell_type": "markdown",
   "metadata": {
    "focus": false,
    "id": "243e949e-2742-40af-872e-fec475fd306c"
   },
   "source": [
    "### Load in the the data"
   ]
  },
  {
   "cell_type": "code",
   "execution_count": 3,
   "metadata": {
    "collapsed": false,
    "focus": false,
    "id": "2c6752c4-7704-4c94-8bc0-6f13d2d0d570",
    "scrolled": true
   },
   "outputs": [
    {
     "data": {
      "text/html": [
       "<div>\n",
       "<table border=\"1\" class=\"dataframe\">\n",
       "  <thead>\n",
       "    <tr style=\"text-align: right;\">\n",
       "      <th></th>\n",
       "      <th>city</th>\n",
       "      <th>company</th>\n",
       "      <th>salary</th>\n",
       "      <th>summary</th>\n",
       "      <th>title</th>\n",
       "      <th>parsed_salary</th>\n",
       "    </tr>\n",
       "  </thead>\n",
       "  <tbody>\n",
       "    <tr>\n",
       "      <th>0</th>\n",
       "      <td>San+Francisco</td>\n",
       "      <td>MarkMonitor</td>\n",
       "      <td>$180,000 a year</td>\n",
       "      <td>Data skills (SQL, Hive, Pig). Applying machine...</td>\n",
       "      <td>Data Scientist</td>\n",
       "      <td>180000.0</td>\n",
       "    </tr>\n",
       "    <tr>\n",
       "      <th>1</th>\n",
       "      <td>San+Francisco</td>\n",
       "      <td>Workbridge Associates</td>\n",
       "      <td>$130,000 - $180,000 a year</td>\n",
       "      <td>3+ years of industry experience in a data scie...</td>\n",
       "      <td>Senior Data Scientist</td>\n",
       "      <td>155000.0</td>\n",
       "    </tr>\n",
       "    <tr>\n",
       "      <th>2</th>\n",
       "      <td>San+Francisco</td>\n",
       "      <td>Mines.io</td>\n",
       "      <td>$80,000 - $120,000 a year</td>\n",
       "      <td>We are looking for a data scientist/developer ...</td>\n",
       "      <td>Full-Stack Data Scientist</td>\n",
       "      <td>100000.0</td>\n",
       "    </tr>\n",
       "    <tr>\n",
       "      <th>3</th>\n",
       "      <td>San+Francisco</td>\n",
       "      <td>Workbridge Associates</td>\n",
       "      <td>$150,000 - $180,000 a year</td>\n",
       "      <td>In this position you will share programming an...</td>\n",
       "      <td>Data Scientist</td>\n",
       "      <td>165000.0</td>\n",
       "    </tr>\n",
       "    <tr>\n",
       "      <th>4</th>\n",
       "      <td>San+Francisco</td>\n",
       "      <td>Smith Hanley Associates</td>\n",
       "      <td>$140,000 a year</td>\n",
       "      <td>This person will recruit, build and lead a tea...</td>\n",
       "      <td>Data Scientist</td>\n",
       "      <td>140000.0</td>\n",
       "    </tr>\n",
       "  </tbody>\n",
       "</table>\n",
       "</div>"
      ],
      "text/plain": [
       "            city                  company                      salary  \\\n",
       "0  San+Francisco              MarkMonitor             $180,000 a year   \n",
       "1  San+Francisco    Workbridge Associates  $130,000 - $180,000 a year   \n",
       "2  San+Francisco                 Mines.io   $80,000 - $120,000 a year   \n",
       "3  San+Francisco    Workbridge Associates  $150,000 - $180,000 a year   \n",
       "4  San+Francisco  Smith Hanley Associates             $140,000 a year   \n",
       "\n",
       "                                             summary  \\\n",
       "0  Data skills (SQL, Hive, Pig). Applying machine...   \n",
       "1  3+ years of industry experience in a data scie...   \n",
       "2  We are looking for a data scientist/developer ...   \n",
       "3  In this position you will share programming an...   \n",
       "4  This person will recruit, build and lead a tea...   \n",
       "\n",
       "                       title  parsed_salary  \n",
       "0             Data Scientist       180000.0  \n",
       "1      Senior Data Scientist       155000.0  \n",
       "2  Full-Stack Data Scientist       100000.0  \n",
       "3             Data Scientist       165000.0  \n",
       "4             Data Scientist       140000.0  "
      ]
     },
     "execution_count": 3,
     "metadata": {},
     "output_type": "execute_result"
    }
   ],
   "source": [
    "df = pd.read_csv('/Users/ginodefalco/dsi/dsi_repo/DSI_SM_3/curriculum/week-01/4.1-More-Visualization-EDA/assets/datasets/indeed-scraped-job-postings.csv')\n",
    "df.head()\n"
   ]
  },
  {
   "cell_type": "code",
   "execution_count": 4,
   "metadata": {
    "collapsed": false
   },
   "outputs": [
    {
     "data": {
      "text/plain": [
       "(4791, 6)"
      ]
     },
     "execution_count": 4,
     "metadata": {},
     "output_type": "execute_result"
    }
   ],
   "source": [
    "df.shape"
   ]
  },
  {
   "cell_type": "code",
   "execution_count": 5,
   "metadata": {
    "collapsed": false
   },
   "outputs": [
    {
     "name": "stdout",
     "output_type": "stream",
     "text": [
      "<class 'pandas.core.frame.DataFrame'>\n",
      "RangeIndex: 4791 entries, 0 to 4790\n",
      "Data columns (total 6 columns):\n",
      "city             4791 non-null object\n",
      "company          4791 non-null object\n",
      "salary           4791 non-null object\n",
      "summary          4791 non-null object\n",
      "title            4791 non-null object\n",
      "parsed_salary    4789 non-null float64\n",
      "dtypes: float64(1), object(5)\n",
      "memory usage: 224.6+ KB\n"
     ]
    }
   ],
   "source": [
    "df.info()"
   ]
  },
  {
   "cell_type": "markdown",
   "metadata": {},
   "source": [
    "## Domain & Data set:\n",
    "\n",
    "This data set contains a recent web-scraped list of Data Science jobs from a variety of job markets from Indeed.com, a job-listings website. It contains 4,791 rows and 6 columns of data including:\n",
    "\n",
    "- City (City in which the job listings were collected)\n",
    "- Company (Companies that listed the job liosting)\n",
    "- Salary (Uncleaned salary range for each job listing)\n",
    "- Summary (A brief description of each job listing)\n",
    "- Title (A general title given to each job listing)\n",
    "- Parsed Salary (Official salary, which looks to have been determined by the web-scraper, for each job listing) \n",
    "\n"
   ]
  },
  {
   "cell_type": "markdown",
   "metadata": {},
   "source": [
    "## Problem Statement:\n",
    "\n",
    "In this project, we are going to collect salary information on data science jobs in a variety of markets. Then using the location, title, and summary of the job, we will attempt to predict a corresponding salary for that job. While most listings do not come with salary information, being able to predict the expected salaries for other listings will be extremely useful for negotiations.\n",
    "\n",
    "Normally we could use regression for this task, however, instead we will convert this into a classification problem and use Logistic Regression. While more precision may be better, there is a fair amount of natural variance in job salaries, therefore, predicting a range may be useful. We will be focused on using the listings with salary information to build a model and predict salaries.\n",
    "\n",
    "## Solution:\n",
    "\n",
    "We need to inspect this data from Indeed.com on data science salary trends for analysis and find out what factors most directly impact salaries (Title, location, etc.). In this case, we do not want to predict mean salary as would be done in a regression. We believe that salary is better represented in categories. We need to test, validate, and describe our models. What factors predict salary category? How do our models perform? Author a report detailing the analysis.\n",
    "\n",
    "Judging from the size of our data set, we may encounter a problem with not having enough data. We will adjust one of our logistic regression models, and explain what it is doing and any tradeoffs. Plot the ROC curve.\n",
    "\n",
    "Text variables and regularization:\n",
    "Part 1: Job descriptions contain more potentially useful information you could leverage. We will use the job summary and Title to find words we think would be important and add them as predictors to a model.\n",
    "Part 2: Gridsearch parameters for Ridge and Lasso for this model and report the best model.\n",
    "\n",
    "Goal: \n",
    "- Clean data \n",
    "- Run logistic regression \n",
    "- Derive insights\n",
    "- Present findings"
   ]
  },
  {
   "cell_type": "code",
   "execution_count": 143,
   "metadata": {
    "collapsed": false
   },
   "outputs": [
    {
     "data": {
      "text/plain": [
       "0    San Francisco\n",
       "1    San Francisco\n",
       "2    San Francisco\n",
       "3    San Francisco\n",
       "4    San Francisco\n",
       "Name: city, dtype: object"
      ]
     },
     "execution_count": 143,
     "metadata": {},
     "output_type": "execute_result"
    }
   ],
   "source": [
    "# Clean up city column\n",
    "df['city'] = df['city'].str.replace('+', ' ')\n",
    "df['city'].head()"
   ]
  },
  {
   "cell_type": "code",
   "execution_count": 144,
   "metadata": {
    "collapsed": false,
    "scrolled": false
   },
   "outputs": [
    {
     "data": {
      "text/html": [
       "<div>\n",
       "<table border=\"1\" class=\"dataframe\">\n",
       "  <thead>\n",
       "    <tr style=\"text-align: right;\">\n",
       "      <th></th>\n",
       "      <th>city</th>\n",
       "      <th>company</th>\n",
       "      <th>salary</th>\n",
       "      <th>summary</th>\n",
       "      <th>title</th>\n",
       "      <th>parsed_salary</th>\n",
       "    </tr>\n",
       "  </thead>\n",
       "  <tbody>\n",
       "    <tr>\n",
       "      <th>0</th>\n",
       "      <td>San Francisco</td>\n",
       "      <td>MarkMonitor</td>\n",
       "      <td>$180,000 a year</td>\n",
       "      <td>Data skills (SQL, Hive, Pig). Applying machine...</td>\n",
       "      <td>Data Scientist</td>\n",
       "      <td>180000.0</td>\n",
       "    </tr>\n",
       "    <tr>\n",
       "      <th>1</th>\n",
       "      <td>San Francisco</td>\n",
       "      <td>Workbridge Associates</td>\n",
       "      <td>$130,000 - $180,000 a year</td>\n",
       "      <td>3+ years of industry experience in a data scie...</td>\n",
       "      <td>Senior Data Scientist</td>\n",
       "      <td>155000.0</td>\n",
       "    </tr>\n",
       "    <tr>\n",
       "      <th>2</th>\n",
       "      <td>San Francisco</td>\n",
       "      <td>Mines.io</td>\n",
       "      <td>$80,000 - $120,000 a year</td>\n",
       "      <td>We are looking for a data scientist/developer ...</td>\n",
       "      <td>Full-Stack Data Scientist</td>\n",
       "      <td>100000.0</td>\n",
       "    </tr>\n",
       "    <tr>\n",
       "      <th>3</th>\n",
       "      <td>San Francisco</td>\n",
       "      <td>Workbridge Associates</td>\n",
       "      <td>$150,000 - $180,000 a year</td>\n",
       "      <td>In this position you will share programming an...</td>\n",
       "      <td>Data Scientist</td>\n",
       "      <td>165000.0</td>\n",
       "    </tr>\n",
       "    <tr>\n",
       "      <th>4</th>\n",
       "      <td>San Francisco</td>\n",
       "      <td>Smith Hanley Associates</td>\n",
       "      <td>$140,000 a year</td>\n",
       "      <td>This person will recruit, build and lead a tea...</td>\n",
       "      <td>Data Scientist</td>\n",
       "      <td>140000.0</td>\n",
       "    </tr>\n",
       "  </tbody>\n",
       "</table>\n",
       "</div>"
      ],
      "text/plain": [
       "            city                  company                      salary  \\\n",
       "0  San Francisco              MarkMonitor             $180,000 a year   \n",
       "1  San Francisco    Workbridge Associates  $130,000 - $180,000 a year   \n",
       "2  San Francisco                 Mines.io   $80,000 - $120,000 a year   \n",
       "3  San Francisco    Workbridge Associates  $150,000 - $180,000 a year   \n",
       "4  San Francisco  Smith Hanley Associates             $140,000 a year   \n",
       "\n",
       "                                             summary  \\\n",
       "0  Data skills (SQL, Hive, Pig). Applying machine...   \n",
       "1  3+ years of industry experience in a data scie...   \n",
       "2  We are looking for a data scientist/developer ...   \n",
       "3  In this position you will share programming an...   \n",
       "4  This person will recruit, build and lead a tea...   \n",
       "\n",
       "                       title  parsed_salary  \n",
       "0             Data Scientist       180000.0  \n",
       "1      Senior Data Scientist       155000.0  \n",
       "2  Full-Stack Data Scientist       100000.0  \n",
       "3             Data Scientist       165000.0  \n",
       "4             Data Scientist       140000.0  "
      ]
     },
     "execution_count": 144,
     "metadata": {},
     "output_type": "execute_result"
    }
   ],
   "source": [
    "# Drop or replace bad values\n",
    "df = df.dropna()\n",
    "df.head()"
   ]
  },
  {
   "cell_type": "code",
   "execution_count": 145,
   "metadata": {
    "collapsed": false,
    "scrolled": true
   },
   "outputs": [
    {
     "name": "stdout",
     "output_type": "stream",
     "text": [
      "<class 'pandas.core.frame.DataFrame'>\n",
      "Int64Index: 4789 entries, 0 to 4790\n",
      "Data columns (total 6 columns):\n",
      "city             4789 non-null object\n",
      "company          4789 non-null object\n",
      "salary           4789 non-null object\n",
      "summary          4789 non-null object\n",
      "title            4789 non-null object\n",
      "parsed_salary    4789 non-null float64\n",
      "dtypes: float64(1), object(5)\n",
      "memory usage: 261.9+ KB\n"
     ]
    }
   ],
   "source": [
    "# NAN's are indeed dropped\n",
    "df.info()"
   ]
  },
  {
   "cell_type": "code",
   "execution_count": 146,
   "metadata": {
    "collapsed": false
   },
   "outputs": [
    {
     "data": {
      "image/png": "[encoded data removed]",
      "text/plain": [
       "<IPython.core.display.Image object>"
      ]
     },
     "execution_count": 146,
     "metadata": {},
     "output_type": "execute_result"
    }
   ],
   "source": [
    "from IPython.display import Image\n",
    "Image(\"Salary by City.png\")"
   ]
  },
  {
   "cell_type": "code",
   "execution_count": 147,
   "metadata": {
    "collapsed": false
   },
   "outputs": [
    {
     "data": {
      "image/png": "[encoded data removed]",
      "text/plain": [
       "<IPython.core.display.Image object>"
      ]
     },
     "execution_count": 147,
     "metadata": {},
     "output_type": "execute_result"
    }
   ],
   "source": [
    "from IPython.display import Image\n",
    "Image(\"Title by Salary.png\")"
   ]
  },
  {
   "cell_type": "code",
   "execution_count": 148,
   "metadata": {
    "collapsed": false
   },
   "outputs": [
    {
     "data": {
      "text/html": [
       "<div>\n",
       "<table border=\"1\" class=\"dataframe\">\n",
       "  <thead>\n",
       "    <tr style=\"text-align: right;\">\n",
       "      <th></th>\n",
       "      <th>parsed_salary</th>\n",
       "    </tr>\n",
       "  </thead>\n",
       "  <tbody>\n",
       "    <tr>\n",
       "      <th>count</th>\n",
       "      <td>4789.000000</td>\n",
       "    </tr>\n",
       "    <tr>\n",
       "      <th>mean</th>\n",
       "      <td>66183.785550</td>\n",
       "    </tr>\n",
       "    <tr>\n",
       "      <th>std</th>\n",
       "      <td>64348.141986</td>\n",
       "    </tr>\n",
       "    <tr>\n",
       "      <th>min</th>\n",
       "      <td>2333.000000</td>\n",
       "    </tr>\n",
       "    <tr>\n",
       "      <th>25%</th>\n",
       "      <td>5950.000000</td>\n",
       "    </tr>\n",
       "    <tr>\n",
       "      <th>50%</th>\n",
       "      <td>74550.000000</td>\n",
       "    </tr>\n",
       "    <tr>\n",
       "      <th>75%</th>\n",
       "      <td>130000.000000</td>\n",
       "    </tr>\n",
       "    <tr>\n",
       "      <th>max</th>\n",
       "      <td>300000.000000</td>\n",
       "    </tr>\n",
       "  </tbody>\n",
       "</table>\n",
       "</div>"
      ],
      "text/plain": [
       "       parsed_salary\n",
       "count    4789.000000\n",
       "mean    66183.785550\n",
       "std     64348.141986\n",
       "min      2333.000000\n",
       "25%      5950.000000\n",
       "50%     74550.000000\n",
       "75%    130000.000000\n",
       "max    300000.000000"
      ]
     },
     "execution_count": 148,
     "metadata": {},
     "output_type": "execute_result"
    }
   ],
   "source": [
    "df.describe()"
   ]
  },
  {
   "cell_type": "code",
   "execution_count": 149,
   "metadata": {
    "collapsed": false
   },
   "outputs": [
    {
     "data": {
      "text/plain": [
       "74550.0"
      ]
     },
     "execution_count": 149,
     "metadata": {},
     "output_type": "execute_result"
    }
   ],
   "source": [
    "# Find median salary\n",
    "ps = df['parsed_salary'].median()\n",
    "ps"
   ]
  },
  {
   "cell_type": "code",
   "execution_count": 150,
   "metadata": {
    "collapsed": false,
    "scrolled": true
   },
   "outputs": [
    {
     "data": {
      "text/html": [
       "<div>\n",
       "<table border=\"1\" class=\"dataframe\">\n",
       "  <thead>\n",
       "    <tr style=\"text-align: right;\">\n",
       "      <th></th>\n",
       "      <th>city</th>\n",
       "      <th>company</th>\n",
       "      <th>salary</th>\n",
       "      <th>summary</th>\n",
       "      <th>title</th>\n",
       "      <th>parsed_salary</th>\n",
       "    </tr>\n",
       "  </thead>\n",
       "  <tbody>\n",
       "    <tr>\n",
       "      <th>0</th>\n",
       "      <td>San Francisco</td>\n",
       "      <td>MarkMonitor</td>\n",
       "      <td>$180,000 a year</td>\n",
       "      <td>Data skills (SQL, Hive, Pig). Applying machine...</td>\n",
       "      <td>Data Scientist</td>\n",
       "      <td>180000.0</td>\n",
       "    </tr>\n",
       "    <tr>\n",
       "      <th>1</th>\n",
       "      <td>San Francisco</td>\n",
       "      <td>Workbridge Associates</td>\n",
       "      <td>$130,000 - $180,000 a year</td>\n",
       "      <td>3+ years of industry experience in a data scie...</td>\n",
       "      <td>Senior Data Scientist</td>\n",
       "      <td>155000.0</td>\n",
       "    </tr>\n",
       "    <tr>\n",
       "      <th>2</th>\n",
       "      <td>San Francisco</td>\n",
       "      <td>Mines.io</td>\n",
       "      <td>$80,000 - $120,000 a year</td>\n",
       "      <td>We are looking for a data scientist/developer ...</td>\n",
       "      <td>Full-Stack Data Scientist</td>\n",
       "      <td>100000.0</td>\n",
       "    </tr>\n",
       "    <tr>\n",
       "      <th>3</th>\n",
       "      <td>San Francisco</td>\n",
       "      <td>Workbridge Associates</td>\n",
       "      <td>$150,000 - $180,000 a year</td>\n",
       "      <td>In this position you will share programming an...</td>\n",
       "      <td>Data Scientist</td>\n",
       "      <td>165000.0</td>\n",
       "    </tr>\n",
       "    <tr>\n",
       "      <th>4</th>\n",
       "      <td>San Francisco</td>\n",
       "      <td>Smith Hanley Associates</td>\n",
       "      <td>$140,000 a year</td>\n",
       "      <td>This person will recruit, build and lead a tea...</td>\n",
       "      <td>Data Scientist</td>\n",
       "      <td>140000.0</td>\n",
       "    </tr>\n",
       "  </tbody>\n",
       "</table>\n",
       "</div>"
      ],
      "text/plain": [
       "            city                  company                      salary  \\\n",
       "0  San Francisco              MarkMonitor             $180,000 a year   \n",
       "1  San Francisco    Workbridge Associates  $130,000 - $180,000 a year   \n",
       "2  San Francisco                 Mines.io   $80,000 - $120,000 a year   \n",
       "3  San Francisco    Workbridge Associates  $150,000 - $180,000 a year   \n",
       "4  San Francisco  Smith Hanley Associates             $140,000 a year   \n",
       "\n",
       "                                             summary  \\\n",
       "0  Data skills (SQL, Hive, Pig). Applying machine...   \n",
       "1  3+ years of industry experience in a data scie...   \n",
       "2  We are looking for a data scientist/developer ...   \n",
       "3  In this position you will share programming an...   \n",
       "4  This person will recruit, build and lead a tea...   \n",
       "\n",
       "                       title  parsed_salary  \n",
       "0             Data Scientist       180000.0  \n",
       "1      Senior Data Scientist       155000.0  \n",
       "2  Full-Stack Data Scientist       100000.0  \n",
       "3             Data Scientist       165000.0  \n",
       "4             Data Scientist       140000.0  "
      ]
     },
     "execution_count": 150,
     "metadata": {},
     "output_type": "execute_result"
    }
   ],
   "source": [
    "# Change monthly salaries into yearly\n",
    "df['parsed_salary'] = df['parsed_salary'].apply(lambda x: x*12 if x < 10000 else x)\n",
    "df.head()"
   ]
  },
  {
   "cell_type": "code",
   "execution_count": 151,
   "metadata": {
    "collapsed": false
   },
   "outputs": [
    {
     "data": {
      "text/plain": [
       "27996.0"
      ]
     },
     "execution_count": 151,
     "metadata": {},
     "output_type": "execute_result"
    }
   ],
   "source": [
    "# bLooks like they have all been changed\n",
    "df['parsed_salary'].min()"
   ]
  },
  {
   "cell_type": "code",
   "execution_count": 152,
   "metadata": {
    "collapsed": false,
    "scrolled": true
   },
   "outputs": [
    {
     "data": {
      "text/html": [
       "<div>\n",
       "<table border=\"1\" class=\"dataframe\">\n",
       "  <thead>\n",
       "    <tr style=\"text-align: right;\">\n",
       "      <th></th>\n",
       "      <th>city</th>\n",
       "      <th>company</th>\n",
       "      <th>salary</th>\n",
       "      <th>summary</th>\n",
       "      <th>title</th>\n",
       "      <th>parsed_salary</th>\n",
       "    </tr>\n",
       "  </thead>\n",
       "  <tbody>\n",
       "    <tr>\n",
       "      <th>0</th>\n",
       "      <td>San Francisco</td>\n",
       "      <td>MarkMonitor</td>\n",
       "      <td>1</td>\n",
       "      <td>Data skills (SQL, Hive, Pig). Applying machine...</td>\n",
       "      <td>Data Scientist</td>\n",
       "      <td>180000.0</td>\n",
       "    </tr>\n",
       "    <tr>\n",
       "      <th>1</th>\n",
       "      <td>San Francisco</td>\n",
       "      <td>Workbridge Associates</td>\n",
       "      <td>1</td>\n",
       "      <td>3+ years of industry experience in a data scie...</td>\n",
       "      <td>Senior Data Scientist</td>\n",
       "      <td>155000.0</td>\n",
       "    </tr>\n",
       "    <tr>\n",
       "      <th>2</th>\n",
       "      <td>San Francisco</td>\n",
       "      <td>Mines.io</td>\n",
       "      <td>1</td>\n",
       "      <td>We are looking for a data scientist/developer ...</td>\n",
       "      <td>Full-Stack Data Scientist</td>\n",
       "      <td>100000.0</td>\n",
       "    </tr>\n",
       "    <tr>\n",
       "      <th>3</th>\n",
       "      <td>San Francisco</td>\n",
       "      <td>Workbridge Associates</td>\n",
       "      <td>1</td>\n",
       "      <td>In this position you will share programming an...</td>\n",
       "      <td>Data Scientist</td>\n",
       "      <td>165000.0</td>\n",
       "    </tr>\n",
       "    <tr>\n",
       "      <th>4</th>\n",
       "      <td>San Francisco</td>\n",
       "      <td>Smith Hanley Associates</td>\n",
       "      <td>1</td>\n",
       "      <td>This person will recruit, build and lead a tea...</td>\n",
       "      <td>Data Scientist</td>\n",
       "      <td>140000.0</td>\n",
       "    </tr>\n",
       "    <tr>\n",
       "      <th>5</th>\n",
       "      <td>San Francisco</td>\n",
       "      <td>HSF Consulting</td>\n",
       "      <td>1</td>\n",
       "      <td>Teams included Data Services(including data en...</td>\n",
       "      <td>VP of Data Services</td>\n",
       "      <td>300000.0</td>\n",
       "    </tr>\n",
       "    <tr>\n",
       "      <th>6</th>\n",
       "      <td>San Francisco</td>\n",
       "      <td>All-In Analytics</td>\n",
       "      <td>1</td>\n",
       "      <td>Fraud Data Scientist. Seeking someone with ski...</td>\n",
       "      <td>Fraud Data Scientist</td>\n",
       "      <td>125000.0</td>\n",
       "    </tr>\n",
       "    <tr>\n",
       "      <th>7</th>\n",
       "      <td>San Francisco</td>\n",
       "      <td>Brilent</td>\n",
       "      <td>1</td>\n",
       "      <td>Perform large-scale data analysis, find intere...</td>\n",
       "      <td>Senior Data Scientist</td>\n",
       "      <td>130000.0</td>\n",
       "    </tr>\n",
       "    <tr>\n",
       "      <th>8</th>\n",
       "      <td>San Francisco</td>\n",
       "      <td>HSF Consulting</td>\n",
       "      <td>1</td>\n",
       "      <td>More data- they simply have more data than the...</td>\n",
       "      <td>Senior Data Scientist</td>\n",
       "      <td>160000.0</td>\n",
       "    </tr>\n",
       "    <tr>\n",
       "      <th>9</th>\n",
       "      <td>San Francisco</td>\n",
       "      <td>All-In Analytics</td>\n",
       "      <td>1</td>\n",
       "      <td>Fraud Data Scientist. Seeking someone with ski...</td>\n",
       "      <td>Fraud Data Scientist</td>\n",
       "      <td>125000.0</td>\n",
       "    </tr>\n",
       "    <tr>\n",
       "      <th>10</th>\n",
       "      <td>San Francisco</td>\n",
       "      <td>Jobspring Partners</td>\n",
       "      <td>1</td>\n",
       "      <td>Given the high volume of data collected by the...</td>\n",
       "      <td>Python Developer (Machine Learning)</td>\n",
       "      <td>162500.0</td>\n",
       "    </tr>\n",
       "    <tr>\n",
       "      <th>11</th>\n",
       "      <td>San Francisco</td>\n",
       "      <td>University of California Berkeley</td>\n",
       "      <td>0</td>\n",
       "      <td>Must be able to work in a greenhouse, manage d...</td>\n",
       "      <td>Staff Research Associate, PMB</td>\n",
       "      <td>46200.0</td>\n",
       "    </tr>\n",
       "    <tr>\n",
       "      <th>12</th>\n",
       "      <td>San Francisco</td>\n",
       "      <td>Workbridge Associates</td>\n",
       "      <td>1</td>\n",
       "      <td>You will collaborate with Product, Data Engine...</td>\n",
       "      <td>Chief Algorithm Developer (Signal Processing) ...</td>\n",
       "      <td>150000.0</td>\n",
       "    </tr>\n",
       "    <tr>\n",
       "      <th>13</th>\n",
       "      <td>San Francisco</td>\n",
       "      <td>HSF Consulting</td>\n",
       "      <td>1</td>\n",
       "      <td>Teams included Data Services(including data en...</td>\n",
       "      <td>VP of Data Services</td>\n",
       "      <td>300000.0</td>\n",
       "    </tr>\n",
       "    <tr>\n",
       "      <th>14</th>\n",
       "      <td>San Francisco</td>\n",
       "      <td>University of California Berkeley</td>\n",
       "      <td>0</td>\n",
       "      <td>Demonstrated experience with programming for b...</td>\n",
       "      <td>Post-Doctoral Scholar-Employee: Analysis of om...</td>\n",
       "      <td>47406.0</td>\n",
       "    </tr>\n",
       "    <tr>\n",
       "      <th>15</th>\n",
       "      <td>San Francisco</td>\n",
       "      <td>Workbridge Associates</td>\n",
       "      <td>1</td>\n",
       "      <td>This leading company has a job opening for Pri...</td>\n",
       "      <td>Principal Data Scientist</td>\n",
       "      <td>155000.0</td>\n",
       "    </tr>\n",
       "    <tr>\n",
       "      <th>16</th>\n",
       "      <td>San Francisco</td>\n",
       "      <td>Workbridge Associates</td>\n",
       "      <td>1</td>\n",
       "      <td>You will collaborate with Product, Data Engine...</td>\n",
       "      <td>Chief Algorithm Developer (Signal Processing) ...</td>\n",
       "      <td>150000.0</td>\n",
       "    </tr>\n",
       "    <tr>\n",
       "      <th>17</th>\n",
       "      <td>San Francisco</td>\n",
       "      <td>Workbridge Associates</td>\n",
       "      <td>1</td>\n",
       "      <td>2+ years of experience in Data Scientist, Quan...</td>\n",
       "      <td>Data Scientist (Econometrics)</td>\n",
       "      <td>140000.0</td>\n",
       "    </tr>\n",
       "    <tr>\n",
       "      <th>18</th>\n",
       "      <td>San Francisco</td>\n",
       "      <td>Workbridge Associates</td>\n",
       "      <td>1</td>\n",
       "      <td>Solid experience in data science. Established ...</td>\n",
       "      <td>Data Scientist (Statistics/Economics)</td>\n",
       "      <td>120000.0</td>\n",
       "    </tr>\n",
       "    <tr>\n",
       "      <th>19</th>\n",
       "      <td>San Francisco</td>\n",
       "      <td>Corporate Labs Technology</td>\n",
       "      <td>1</td>\n",
       "      <td>Machine Learning Developer Brisbane, CA Sign o...</td>\n",
       "      <td>Data Scientist (Machine Learning)</td>\n",
       "      <td>145000.0</td>\n",
       "    </tr>\n",
       "    <tr>\n",
       "      <th>20</th>\n",
       "      <td>San Francisco</td>\n",
       "      <td>Brilent</td>\n",
       "      <td>1</td>\n",
       "      <td>The Brilent team brings together deep experien...</td>\n",
       "      <td>Senior NLP Scientist/Engineer</td>\n",
       "      <td>150000.0</td>\n",
       "    </tr>\n",
       "    <tr>\n",
       "      <th>21</th>\n",
       "      <td>San Francisco</td>\n",
       "      <td>Workbridge Associates</td>\n",
       "      <td>1</td>\n",
       "      <td>The Senior Data Scientist position requires a ...</td>\n",
       "      <td>Senior Data Scientist (Autonomous Vehicle Rese...</td>\n",
       "      <td>170000.0</td>\n",
       "    </tr>\n",
       "    <tr>\n",
       "      <th>22</th>\n",
       "      <td>San Francisco</td>\n",
       "      <td>3coast</td>\n",
       "      <td>1</td>\n",
       "      <td>VP - Predictive Modeling / Data Scientist. Han...</td>\n",
       "      <td>VP - Predictive Modeling / Data Scientist</td>\n",
       "      <td>140000.0</td>\n",
       "    </tr>\n",
       "    <tr>\n",
       "      <th>23</th>\n",
       "      <td>San Francisco</td>\n",
       "      <td>University of California Berkeley</td>\n",
       "      <td>0</td>\n",
       "      <td>Ensures accuracy and completeness of data in m...</td>\n",
       "      <td>Database Administrator, GSE</td>\n",
       "      <td>74550.0</td>\n",
       "    </tr>\n",
       "    <tr>\n",
       "      <th>24</th>\n",
       "      <td>San Francisco</td>\n",
       "      <td>NextGen Jane, Inc.</td>\n",
       "      <td>0</td>\n",
       "      <td>Scientific Researcher – Next Gen Sequencing Sc...</td>\n",
       "      <td>Scientific Researcher</td>\n",
       "      <td>65000.0</td>\n",
       "    </tr>\n",
       "    <tr>\n",
       "      <th>25</th>\n",
       "      <td>San Francisco</td>\n",
       "      <td>Jobspring Partners</td>\n",
       "      <td>1</td>\n",
       "      <td>This is an opportunity to lead a team of talen...</td>\n",
       "      <td>Vice President Engineering (Big Data/ Machine ...</td>\n",
       "      <td>227500.0</td>\n",
       "    </tr>\n",
       "    <tr>\n",
       "      <th>26</th>\n",
       "      <td>San Francisco</td>\n",
       "      <td>Workbridge Associates</td>\n",
       "      <td>1</td>\n",
       "      <td>2+ years of experience in Data Scientist, Quan...</td>\n",
       "      <td>Data Scientist (Econometrics)</td>\n",
       "      <td>140000.0</td>\n",
       "    </tr>\n",
       "    <tr>\n",
       "      <th>27</th>\n",
       "      <td>San Francisco</td>\n",
       "      <td>Workbridge Associates</td>\n",
       "      <td>1</td>\n",
       "      <td>Solid experience in data science. Established ...</td>\n",
       "      <td>Data Scientist (Statistics/Economics)</td>\n",
       "      <td>120000.0</td>\n",
       "    </tr>\n",
       "    <tr>\n",
       "      <th>28</th>\n",
       "      <td>San Francisco</td>\n",
       "      <td>Workbridge Associates</td>\n",
       "      <td>1</td>\n",
       "      <td>The Senior Data Scientist position requires a ...</td>\n",
       "      <td>Senior Data Scientist (Autonomous Vehicle Rese...</td>\n",
       "      <td>170000.0</td>\n",
       "    </tr>\n",
       "    <tr>\n",
       "      <th>29</th>\n",
       "      <td>San Francisco</td>\n",
       "      <td>Talent Compliance Consulting Services</td>\n",
       "      <td>1</td>\n",
       "      <td>Strong data analysis skills including setting ...</td>\n",
       "      <td>Quality Control Scientist</td>\n",
       "      <td>100000.0</td>\n",
       "    </tr>\n",
       "    <tr>\n",
       "      <th>30</th>\n",
       "      <td>San Francisco</td>\n",
       "      <td>University of California Berkeley</td>\n",
       "      <td>0</td>\n",
       "      <td>Must be able to work in a greenhouse, manage d...</td>\n",
       "      <td>Staff Research Associate, PMB</td>\n",
       "      <td>46200.0</td>\n",
       "    </tr>\n",
       "    <tr>\n",
       "      <th>31</th>\n",
       "      <td>San Francisco</td>\n",
       "      <td>California State University</td>\n",
       "      <td>0</td>\n",
       "      <td>Compile and analyze data for written reports a...</td>\n",
       "      <td>Administrative Analyst/Specialist, Exempt I - ...</td>\n",
       "      <td>55200.0</td>\n",
       "    </tr>\n",
       "    <tr>\n",
       "      <th>32</th>\n",
       "      <td>San Francisco</td>\n",
       "      <td>Workbridge Associates</td>\n",
       "      <td>1</td>\n",
       "      <td>Industry experience as a data scientist. Popul...</td>\n",
       "      <td>Senior Data Scientist (Python, R, recommendation)</td>\n",
       "      <td>120000.0</td>\n",
       "    </tr>\n",
       "    <tr>\n",
       "      <th>33</th>\n",
       "      <td>San Francisco</td>\n",
       "      <td>Corporate Labs Technology</td>\n",
       "      <td>1</td>\n",
       "      <td>Natural Language Processing Brisbane, CA Sign ...</td>\n",
       "      <td>Data Scientist (Natural Language Processing)</td>\n",
       "      <td>145000.0</td>\n",
       "    </tr>\n",
       "    <tr>\n",
       "      <th>34</th>\n",
       "      <td>San Francisco</td>\n",
       "      <td>Workbridge Associates</td>\n",
       "      <td>1</td>\n",
       "      <td>3+ years as a Data Scientist required. FinTech...</td>\n",
       "      <td>Senior Data Scientist (FinTech)</td>\n",
       "      <td>152500.0</td>\n",
       "    </tr>\n",
       "    <tr>\n",
       "      <th>35</th>\n",
       "      <td>San Francisco</td>\n",
       "      <td>Workbridge Associates</td>\n",
       "      <td>1</td>\n",
       "      <td>The role will be working on technology that pr...</td>\n",
       "      <td>Staff Engineer, Machine Learning (Scala)</td>\n",
       "      <td>180000.0</td>\n",
       "    </tr>\n",
       "    <tr>\n",
       "      <th>36</th>\n",
       "      <td>San Francisco</td>\n",
       "      <td>Workbridge Associates</td>\n",
       "      <td>1</td>\n",
       "      <td>There is a small team of Data Engineers and Da...</td>\n",
       "      <td>Mid-Level Data Engineer</td>\n",
       "      <td>135000.0</td>\n",
       "    </tr>\n",
       "    <tr>\n",
       "      <th>37</th>\n",
       "      <td>San Francisco</td>\n",
       "      <td>Workbridge Associates</td>\n",
       "      <td>1</td>\n",
       "      <td>A really fast-growing, small startup company h...</td>\n",
       "      <td>Data Scientist - Python</td>\n",
       "      <td>130000.0</td>\n",
       "    </tr>\n",
       "    <tr>\n",
       "      <th>38</th>\n",
       "      <td>San Francisco</td>\n",
       "      <td>Analytic Recruiting</td>\n",
       "      <td>1</td>\n",
       "      <td>5+ years experience in data mining of large di...</td>\n",
       "      <td>Lead Data Scientist</td>\n",
       "      <td>160000.0</td>\n",
       "    </tr>\n",
       "    <tr>\n",
       "      <th>39</th>\n",
       "      <td>San Francisco</td>\n",
       "      <td>Workbridge Associates</td>\n",
       "      <td>1</td>\n",
       "      <td>Drive creation of best practices and new stand...</td>\n",
       "      <td>Director of Data Science (Mapping)</td>\n",
       "      <td>175000.0</td>\n",
       "    </tr>\n",
       "    <tr>\n",
       "      <th>40</th>\n",
       "      <td>San Francisco</td>\n",
       "      <td>Brilent</td>\n",
       "      <td>1</td>\n",
       "      <td>The Brilent team brings together deep experien...</td>\n",
       "      <td>Senior NLP Scientist/Engineer</td>\n",
       "      <td>150000.0</td>\n",
       "    </tr>\n",
       "    <tr>\n",
       "      <th>41</th>\n",
       "      <td>San Francisco</td>\n",
       "      <td>Workbridge Associates</td>\n",
       "      <td>1</td>\n",
       "      <td>Industry experience as a data scientist. Popul...</td>\n",
       "      <td>Senior Data Scientist (Python, R, recommendation)</td>\n",
       "      <td>120000.0</td>\n",
       "    </tr>\n",
       "    <tr>\n",
       "      <th>42</th>\n",
       "      <td>San Francisco</td>\n",
       "      <td>Jobspring Partners</td>\n",
       "      <td>1</td>\n",
       "      <td>This is an opportunity to lead a team of talen...</td>\n",
       "      <td>Vice President Engineering (Big Data/ Machine ...</td>\n",
       "      <td>227500.0</td>\n",
       "    </tr>\n",
       "    <tr>\n",
       "      <th>43</th>\n",
       "      <td>San Francisco</td>\n",
       "      <td>Workbridge Associates</td>\n",
       "      <td>1</td>\n",
       "      <td>3+ years as a Data Scientist required. FinTech...</td>\n",
       "      <td>Senior Data Scientist (FinTech)</td>\n",
       "      <td>152500.0</td>\n",
       "    </tr>\n",
       "    <tr>\n",
       "      <th>44</th>\n",
       "      <td>San Francisco</td>\n",
       "      <td>LT</td>\n",
       "      <td>1</td>\n",
       "      <td>We have four QA engineers with three more open...</td>\n",
       "      <td>QA Engineer</td>\n",
       "      <td>125000.0</td>\n",
       "    </tr>\n",
       "    <tr>\n",
       "      <th>45</th>\n",
       "      <td>San Francisco</td>\n",
       "      <td>LT</td>\n",
       "      <td>1</td>\n",
       "      <td>We have four QA engineers with three more open...</td>\n",
       "      <td>Java Developer</td>\n",
       "      <td>200000.0</td>\n",
       "    </tr>\n",
       "    <tr>\n",
       "      <th>46</th>\n",
       "      <td>San Francisco</td>\n",
       "      <td>Galvanize</td>\n",
       "      <td>0</td>\n",
       "      <td>As part of the Residency program, you will rec...</td>\n",
       "      <td>Data Science Resident (DSR), Data Engineering ...</td>\n",
       "      <td>30000.0</td>\n",
       "    </tr>\n",
       "    <tr>\n",
       "      <th>47</th>\n",
       "      <td>San Francisco</td>\n",
       "      <td>LT</td>\n",
       "      <td>1</td>\n",
       "      <td>We have two QA engineers with three more open ...</td>\n",
       "      <td>Erlang Engineer</td>\n",
       "      <td>180000.0</td>\n",
       "    </tr>\n",
       "    <tr>\n",
       "      <th>48</th>\n",
       "      <td>San Francisco</td>\n",
       "      <td>University of California Berkeley</td>\n",
       "      <td>0</td>\n",
       "      <td>Concepts in Computing with Data. (On reproduci...</td>\n",
       "      <td>Lecturer - Statistics - Department of Statisti...</td>\n",
       "      <td>49012.0</td>\n",
       "    </tr>\n",
       "    <tr>\n",
       "      <th>49</th>\n",
       "      <td>San Francisco</td>\n",
       "      <td>Workbridge Associates</td>\n",
       "      <td>1</td>\n",
       "      <td>Industry experience working as a data scientis...</td>\n",
       "      <td>Senior Data Scientist (Healthcare)</td>\n",
       "      <td>137500.0</td>\n",
       "    </tr>\n",
       "  </tbody>\n",
       "</table>\n",
       "</div>"
      ],
      "text/plain": [
       "             city                                company  salary  \\\n",
       "0   San Francisco                            MarkMonitor       1   \n",
       "1   San Francisco                  Workbridge Associates       1   \n",
       "2   San Francisco                               Mines.io       1   \n",
       "3   San Francisco                  Workbridge Associates       1   \n",
       "4   San Francisco                Smith Hanley Associates       1   \n",
       "5   San Francisco                         HSF Consulting       1   \n",
       "6   San Francisco                       All-In Analytics       1   \n",
       "7   San Francisco                                Brilent       1   \n",
       "8   San Francisco                         HSF Consulting       1   \n",
       "9   San Francisco                       All-In Analytics       1   \n",
       "10  San Francisco                     Jobspring Partners       1   \n",
       "11  San Francisco      University of California Berkeley       0   \n",
       "12  San Francisco                  Workbridge Associates       1   \n",
       "13  San Francisco                         HSF Consulting       1   \n",
       "14  San Francisco      University of California Berkeley       0   \n",
       "15  San Francisco                  Workbridge Associates       1   \n",
       "16  San Francisco                  Workbridge Associates       1   \n",
       "17  San Francisco                  Workbridge Associates       1   \n",
       "18  San Francisco                  Workbridge Associates       1   \n",
       "19  San Francisco              Corporate Labs Technology       1   \n",
       "20  San Francisco                                Brilent       1   \n",
       "21  San Francisco                  Workbridge Associates       1   \n",
       "22  San Francisco                                 3coast       1   \n",
       "23  San Francisco      University of California Berkeley       0   \n",
       "24  San Francisco                     NextGen Jane, Inc.       0   \n",
       "25  San Francisco                     Jobspring Partners       1   \n",
       "26  San Francisco                  Workbridge Associates       1   \n",
       "27  San Francisco                  Workbridge Associates       1   \n",
       "28  San Francisco                  Workbridge Associates       1   \n",
       "29  San Francisco  Talent Compliance Consulting Services       1   \n",
       "30  San Francisco      University of California Berkeley       0   \n",
       "31  San Francisco            California State University       0   \n",
       "32  San Francisco                  Workbridge Associates       1   \n",
       "33  San Francisco              Corporate Labs Technology       1   \n",
       "34  San Francisco                  Workbridge Associates       1   \n",
       "35  San Francisco                  Workbridge Associates       1   \n",
       "36  San Francisco                  Workbridge Associates       1   \n",
       "37  San Francisco                  Workbridge Associates       1   \n",
       "38  San Francisco                    Analytic Recruiting       1   \n",
       "39  San Francisco                  Workbridge Associates       1   \n",
       "40  San Francisco                                Brilent       1   \n",
       "41  San Francisco                  Workbridge Associates       1   \n",
       "42  San Francisco                     Jobspring Partners       1   \n",
       "43  San Francisco                  Workbridge Associates       1   \n",
       "44  San Francisco                                     LT       1   \n",
       "45  San Francisco                                     LT       1   \n",
       "46  San Francisco                              Galvanize       0   \n",
       "47  San Francisco                                     LT       1   \n",
       "48  San Francisco      University of California Berkeley       0   \n",
       "49  San Francisco                  Workbridge Associates       1   \n",
       "\n",
       "                                              summary  \\\n",
       "0   Data skills (SQL, Hive, Pig). Applying machine...   \n",
       "1   3+ years of industry experience in a data scie...   \n",
       "2   We are looking for a data scientist/developer ...   \n",
       "3   In this position you will share programming an...   \n",
       "4   This person will recruit, build and lead a tea...   \n",
       "5   Teams included Data Services(including data en...   \n",
       "6   Fraud Data Scientist. Seeking someone with ski...   \n",
       "7   Perform large-scale data analysis, find intere...   \n",
       "8   More data- they simply have more data than the...   \n",
       "9   Fraud Data Scientist. Seeking someone with ski...   \n",
       "10  Given the high volume of data collected by the...   \n",
       "11  Must be able to work in a greenhouse, manage d...   \n",
       "12  You will collaborate with Product, Data Engine...   \n",
       "13  Teams included Data Services(including data en...   \n",
       "14  Demonstrated experience with programming for b...   \n",
       "15  This leading company has a job opening for Pri...   \n",
       "16  You will collaborate with Product, Data Engine...   \n",
       "17  2+ years of experience in Data Scientist, Quan...   \n",
       "18  Solid experience in data science. Established ...   \n",
       "19  Machine Learning Developer Brisbane, CA Sign o...   \n",
       "20  The Brilent team brings together deep experien...   \n",
       "21  The Senior Data Scientist position requires a ...   \n",
       "22  VP - Predictive Modeling / Data Scientist. Han...   \n",
       "23  Ensures accuracy and completeness of data in m...   \n",
       "24  Scientific Researcher – Next Gen Sequencing Sc...   \n",
       "25  This is an opportunity to lead a team of talen...   \n",
       "26  2+ years of experience in Data Scientist, Quan...   \n",
       "27  Solid experience in data science. Established ...   \n",
       "28  The Senior Data Scientist position requires a ...   \n",
       "29  Strong data analysis skills including setting ...   \n",
       "30  Must be able to work in a greenhouse, manage d...   \n",
       "31  Compile and analyze data for written reports a...   \n",
       "32  Industry experience as a data scientist. Popul...   \n",
       "33  Natural Language Processing Brisbane, CA Sign ...   \n",
       "34  3+ years as a Data Scientist required. FinTech...   \n",
       "35  The role will be working on technology that pr...   \n",
       "36  There is a small team of Data Engineers and Da...   \n",
       "37  A really fast-growing, small startup company h...   \n",
       "38  5+ years experience in data mining of large di...   \n",
       "39  Drive creation of best practices and new stand...   \n",
       "40  The Brilent team brings together deep experien...   \n",
       "41  Industry experience as a data scientist. Popul...   \n",
       "42  This is an opportunity to lead a team of talen...   \n",
       "43  3+ years as a Data Scientist required. FinTech...   \n",
       "44  We have four QA engineers with three more open...   \n",
       "45  We have four QA engineers with three more open...   \n",
       "46  As part of the Residency program, you will rec...   \n",
       "47  We have two QA engineers with three more open ...   \n",
       "48  Concepts in Computing with Data. (On reproduci...   \n",
       "49  Industry experience working as a data scientis...   \n",
       "\n",
       "                                                title  parsed_salary  \n",
       "0                                      Data Scientist       180000.0  \n",
       "1                               Senior Data Scientist       155000.0  \n",
       "2                           Full-Stack Data Scientist       100000.0  \n",
       "3                                      Data Scientist       165000.0  \n",
       "4                                      Data Scientist       140000.0  \n",
       "5                                 VP of Data Services       300000.0  \n",
       "6                                Fraud Data Scientist       125000.0  \n",
       "7                               Senior Data Scientist       130000.0  \n",
       "8                               Senior Data Scientist       160000.0  \n",
       "9                                Fraud Data Scientist       125000.0  \n",
       "10                Python Developer (Machine Learning)       162500.0  \n",
       "11                      Staff Research Associate, PMB        46200.0  \n",
       "12  Chief Algorithm Developer (Signal Processing) ...       150000.0  \n",
       "13                                VP of Data Services       300000.0  \n",
       "14  Post-Doctoral Scholar-Employee: Analysis of om...        47406.0  \n",
       "15                           Principal Data Scientist       155000.0  \n",
       "16  Chief Algorithm Developer (Signal Processing) ...       150000.0  \n",
       "17                      Data Scientist (Econometrics)       140000.0  \n",
       "18              Data Scientist (Statistics/Economics)       120000.0  \n",
       "19                  Data Scientist (Machine Learning)       145000.0  \n",
       "20                      Senior NLP Scientist/Engineer       150000.0  \n",
       "21  Senior Data Scientist (Autonomous Vehicle Rese...       170000.0  \n",
       "22          VP - Predictive Modeling / Data Scientist       140000.0  \n",
       "23                        Database Administrator, GSE        74550.0  \n",
       "24                              Scientific Researcher        65000.0  \n",
       "25  Vice President Engineering (Big Data/ Machine ...       227500.0  \n",
       "26                      Data Scientist (Econometrics)       140000.0  \n",
       "27              Data Scientist (Statistics/Economics)       120000.0  \n",
       "28  Senior Data Scientist (Autonomous Vehicle Rese...       170000.0  \n",
       "29                          Quality Control Scientist       100000.0  \n",
       "30                      Staff Research Associate, PMB        46200.0  \n",
       "31  Administrative Analyst/Specialist, Exempt I - ...        55200.0  \n",
       "32  Senior Data Scientist (Python, R, recommendation)       120000.0  \n",
       "33       Data Scientist (Natural Language Processing)       145000.0  \n",
       "34                    Senior Data Scientist (FinTech)       152500.0  \n",
       "35           Staff Engineer, Machine Learning (Scala)       180000.0  \n",
       "36                            Mid-Level Data Engineer       135000.0  \n",
       "37                            Data Scientist - Python       130000.0  \n",
       "38                                Lead Data Scientist       160000.0  \n",
       "39                 Director of Data Science (Mapping)       175000.0  \n",
       "40                      Senior NLP Scientist/Engineer       150000.0  \n",
       "41  Senior Data Scientist (Python, R, recommendation)       120000.0  \n",
       "42  Vice President Engineering (Big Data/ Machine ...       227500.0  \n",
       "43                    Senior Data Scientist (FinTech)       152500.0  \n",
       "44                                        QA Engineer       125000.0  \n",
       "45                                     Java Developer       200000.0  \n",
       "46  Data Science Resident (DSR), Data Engineering ...        30000.0  \n",
       "47                                    Erlang Engineer       180000.0  \n",
       "48  Lecturer - Statistics - Department of Statisti...        49012.0  \n",
       "49                 Senior Data Scientist (Healthcare)       137500.0  "
      ]
     },
     "execution_count": 152,
     "metadata": {},
     "output_type": "execute_result"
    }
   ],
   "source": [
    "# Now, to separate salary into high and low. 75,000 is pretty close to the median, so we'll use that value.\n",
    "df['salary'] = df['parsed_salary'].apply(lambda x: 0 if x <= 75000 else 1)\n",
    "df.head(50)"
   ]
  },
  {
   "cell_type": "code",
   "execution_count": 153,
   "metadata": {
    "collapsed": false
   },
   "outputs": [
    {
     "data": {
      "text/plain": [
       "1    3095\n",
       "0    1694\n",
       "Name: salary, dtype: int64"
      ]
     },
     "execution_count": 153,
     "metadata": {},
     "output_type": "execute_result"
    }
   ],
   "source": [
    "df['salary'].value_counts()\n"
   ]
  },
  {
   "cell_type": "code",
   "execution_count": 154,
   "metadata": {
    "collapsed": false,
    "scrolled": true
   },
   "outputs": [
    {
     "data": {
      "text/html": [
       "<div>\n",
       "<table border=\"1\" class=\"dataframe\">\n",
       "  <thead>\n",
       "    <tr style=\"text-align: right;\">\n",
       "      <th></th>\n",
       "      <th>parsed_salary</th>\n",
       "    </tr>\n",
       "    <tr>\n",
       "      <th>city</th>\n",
       "      <th></th>\n",
       "    </tr>\n",
       "  </thead>\n",
       "  <tbody>\n",
       "    <tr>\n",
       "      <th>New York</th>\n",
       "      <td>139601.542141</td>\n",
       "    </tr>\n",
       "    <tr>\n",
       "      <th>San Francisco</th>\n",
       "      <td>137866.834568</td>\n",
       "    </tr>\n",
       "    <tr>\n",
       "      <th>Chicago</th>\n",
       "      <td>127431.473191</td>\n",
       "    </tr>\n",
       "    <tr>\n",
       "      <th>Austin</th>\n",
       "      <td>71941.290563</td>\n",
       "    </tr>\n",
       "    <tr>\n",
       "      <th>Seattle</th>\n",
       "      <td>71005.792135</td>\n",
       "    </tr>\n",
       "  </tbody>\n",
       "</table>\n",
       "</div>"
      ],
      "text/plain": [
       "               parsed_salary\n",
       "city                        \n",
       "New York       139601.542141\n",
       "San Francisco  137866.834568\n",
       "Chicago        127431.473191\n",
       "Austin          71941.290563\n",
       "Seattle         71005.792135"
      ]
     },
     "execution_count": 154,
     "metadata": {},
     "output_type": "execute_result"
    }
   ],
   "source": [
    "# Cities with highest avg salary\n",
    "city_sal = df.groupby(['city']).agg({'parsed_salary': np.mean})\n",
    "city_sal = city_sal.sort_values(ascending=False, by = 'parsed_salary')\n",
    "city_sal.head(10)\n"
   ]
  },
  {
   "cell_type": "code",
   "execution_count": 155,
   "metadata": {
    "collapsed": false,
    "scrolled": true
   },
   "outputs": [
    {
     "data": {
      "text/html": [
       "<div>\n",
       "<table border=\"1\" class=\"dataframe\">\n",
       "  <thead>\n",
       "    <tr style=\"text-align: right;\">\n",
       "      <th></th>\n",
       "      <th>parsed_salary</th>\n",
       "    </tr>\n",
       "    <tr>\n",
       "      <th>company</th>\n",
       "      <th></th>\n",
       "    </tr>\n",
       "  </thead>\n",
       "  <tbody>\n",
       "    <tr>\n",
       "      <th>HSF Consulting</th>\n",
       "      <td>253333.333333</td>\n",
       "    </tr>\n",
       "    <tr>\n",
       "      <th>Oliver James Associates</th>\n",
       "      <td>215000.000000</td>\n",
       "    </tr>\n",
       "    <tr>\n",
       "      <th>Technical Source</th>\n",
       "      <td>200000.000000</td>\n",
       "    </tr>\n",
       "    <tr>\n",
       "      <th>Hire Solutions Inc.</th>\n",
       "      <td>200000.000000</td>\n",
       "    </tr>\n",
       "    <tr>\n",
       "      <th>Datacom Technology Group</th>\n",
       "      <td>200000.000000</td>\n",
       "    </tr>\n",
       "    <tr>\n",
       "      <th>Averity</th>\n",
       "      <td>185500.000000</td>\n",
       "    </tr>\n",
       "    <tr>\n",
       "      <th>Penfield Search Partners</th>\n",
       "      <td>185000.000000</td>\n",
       "    </tr>\n",
       "    <tr>\n",
       "      <th>MarkMonitor</th>\n",
       "      <td>180000.000000</td>\n",
       "    </tr>\n",
       "    <tr>\n",
       "      <th>LT</th>\n",
       "      <td>168333.333333</td>\n",
       "    </tr>\n",
       "    <tr>\n",
       "      <th>Selby Jennings</th>\n",
       "      <td>161500.000000</td>\n",
       "    </tr>\n",
       "  </tbody>\n",
       "</table>\n",
       "</div>"
      ],
      "text/plain": [
       "                          parsed_salary\n",
       "company                                \n",
       "HSF Consulting            253333.333333\n",
       "Oliver James Associates   215000.000000\n",
       "Technical Source          200000.000000\n",
       "Hire Solutions Inc.       200000.000000\n",
       "Datacom Technology Group  200000.000000\n",
       "Averity                   185500.000000\n",
       "Penfield Search Partners  185000.000000\n",
       "MarkMonitor               180000.000000\n",
       "LT                        168333.333333\n",
       "Selby Jennings            161500.000000"
      ]
     },
     "execution_count": 155,
     "metadata": {},
     "output_type": "execute_result"
    }
   ],
   "source": [
    "# Companies with highest avg salary...Not that helpful\n",
    "company_sal = df.groupby(['company']).agg({'parsed_salary': np.mean})\n",
    "company_sal = company_sal.sort_values(ascending=False, by = 'parsed_salary')\n",
    "company_sal.head(10)\n"
   ]
  },
  {
   "cell_type": "code",
   "execution_count": 156,
   "metadata": {
    "collapsed": false
   },
   "outputs": [
    {
     "data": {
      "text/html": [
       "<div>\n",
       "<table border=\"1\" class=\"dataframe\">\n",
       "  <thead>\n",
       "    <tr style=\"text-align: right;\">\n",
       "      <th></th>\n",
       "      <th>parsed_salary</th>\n",
       "    </tr>\n",
       "    <tr>\n",
       "      <th>title</th>\n",
       "      <th></th>\n",
       "    </tr>\n",
       "  </thead>\n",
       "  <tbody>\n",
       "    <tr>\n",
       "      <th>VP of Data Services</th>\n",
       "      <td>300000.0</td>\n",
       "    </tr>\n",
       "    <tr>\n",
       "      <th>Quantitative Analyst (Big Data Focus) at $10+ Billion Hedge...</th>\n",
       "      <td>250000.0</td>\n",
       "    </tr>\n",
       "    <tr>\n",
       "      <th>Vice President Engineering (Big Data/ Machine Learning)</th>\n",
       "      <td>227500.0</td>\n",
       "    </tr>\n",
       "    <tr>\n",
       "      <th>Quantitative Data Scientist - Large Asset Manager</th>\n",
       "      <td>225000.0</td>\n",
       "    </tr>\n",
       "    <tr>\n",
       "      <th>VP - Predictive Modeling Actuary</th>\n",
       "      <td>215000.0</td>\n",
       "    </tr>\n",
       "    <tr>\n",
       "      <th>Machine Learning Research Scientist - Hedgefund</th>\n",
       "      <td>200000.0</td>\n",
       "    </tr>\n",
       "    <tr>\n",
       "      <th>Quantitative Analyst (Fundamental Quant Equities) - Hedge Fu...</th>\n",
       "      <td>200000.0</td>\n",
       "    </tr>\n",
       "    <tr>\n",
       "      <th>Quantitative Researcher, Machine Learning &amp; Bayesian inferen...</th>\n",
       "      <td>200000.0</td>\n",
       "    </tr>\n",
       "    <tr>\n",
       "      <th>Junior Quantitative Analyst / Developer for $5B Hedge Fund</th>\n",
       "      <td>200000.0</td>\n",
       "    </tr>\n",
       "    <tr>\n",
       "      <th>Java Developer</th>\n",
       "      <td>200000.0</td>\n",
       "    </tr>\n",
       "  </tbody>\n",
       "</table>\n",
       "</div>"
      ],
      "text/plain": [
       "                                                    parsed_salary\n",
       "title                                                            \n",
       "VP of Data Services                                      300000.0\n",
       "Quantitative Analyst (Big Data Focus) at $10+ B...       250000.0\n",
       "Vice President Engineering (Big Data/ Machine L...       227500.0\n",
       "Quantitative Data Scientist - Large Asset Manager        225000.0\n",
       "VP - Predictive Modeling Actuary                         215000.0\n",
       "Machine Learning Research Scientist - Hedgefund          200000.0\n",
       "Quantitative Analyst (Fundamental Quant Equitie...       200000.0\n",
       "Quantitative Researcher, Machine Learning & Bay...       200000.0\n",
       "Junior Quantitative Analyst / Developer for $5B...       200000.0\n",
       "Java Developer                                           200000.0"
      ]
     },
     "execution_count": 156,
     "metadata": {},
     "output_type": "execute_result"
    }
   ],
   "source": [
    "# Titles with highest avg salary\n",
    "title_sal = df.groupby(['title']).agg({'parsed_salary': np.mean})\n",
    "title_sal = title_sal.sort_values(ascending=False, by = 'parsed_salary')\n",
    "title_sal.head(10)\n"
   ]
  },
  {
   "cell_type": "code",
   "execution_count": 157,
   "metadata": {
    "collapsed": false
   },
   "outputs": [
    {
     "data": {
      "text/plain": [
       "array(['Data Scientist', 'Senior Data Scientist',\n",
       "       'Full-Stack Data Scientist', 'VP of Data Services',\n",
       "       'Fraud Data Scientist', 'Python Developer (Machine Learning)',\n",
       "       'Staff Research Associate, PMB',\n",
       "       'Chief Algorithm Developer (Signal Processing) - Wearables',\n",
       "       'Post-Doctoral Scholar-Employee: Analysis of omics data',\n",
       "       'Principal Data Scientist', 'Data Scientist (Econometrics)',\n",
       "       'Data Scientist (Statistics/Economics)',\n",
       "       'Data Scientist (Machine Learning)',\n",
       "       'Senior NLP Scientist/Engineer',\n",
       "       'Senior Data Scientist (Autonomous Vehicle Research)',\n",
       "       'VP - Predictive Modeling / Data Scientist',\n",
       "       'Database Administrator, GSE', 'Scientific Researcher',\n",
       "       'Vice President Engineering (Big Data/ Machine Learning)',\n",
       "       'Quality Control Scientist',\n",
       "       'Administrative Analyst/Specialist, Exempt I - Office of Rese...',\n",
       "       'Senior Data Scientist (Python, R, recommendation)',\n",
       "       'Data Scientist (Natural Language Processing)',\n",
       "       'Senior Data Scientist (FinTech)',\n",
       "       'Staff Engineer, Machine Learning (Scala)',\n",
       "       'Mid-Level Data Engineer', 'Data Scientist - Python',\n",
       "       'Lead Data Scientist', 'Director of Data Science (Mapping)',\n",
       "       'QA Engineer', 'Java Developer',\n",
       "       'Data Science Resident (DSR), Data Engineering Resident (DER)...',\n",
       "       'Erlang Engineer',\n",
       "       'Lecturer - Statistics - Department of Statistics (includes s...',\n",
       "       'Senior Data Scientist (Healthcare)', 'AVP/Quantitative Analyst',\n",
       "       'Data Scientist - Digital Marketing - Technology Start-Up',\n",
       "       'Data Scientist - Life Sciences',\n",
       "       'Director of Qualitative Review & Evaluation Unit',\n",
       "       'Quantitative Analyst (Fundamental Quant Equities) - Hedge Fu...',\n",
       "       'DATA ANALYST', 'Data Scientist (Lead)',\n",
       "       'Data Analyst, Bureau of Chronic Disease Prevention and Tobac...',\n",
       "       'Business Analyst ( Data)', 'VP - Predictive Modeling Actuary',\n",
       "       'Quantitative Analyst (Big Data Focus) at $10+ Billion Hedge...',\n",
       "       'Senior Data Analyst', 'Quantitative Analyst',\n",
       "       'Data Engineer (Partially Remote)',\n",
       "       'Sr. Machine Learning Data Scientist',\n",
       "       'Data Scientist (AML Experience)',\n",
       "       'Junior Quantitative Analyst / Developer for $5B Hedge Fund',\n",
       "       'Research Scientist I', 'VP Data Scientist',\n",
       "       'Quantitative Data Scientist - Large Asset Manager',\n",
       "       'Senior Data Analyst, Bureau of Sexually Transmitted Disease...',\n",
       "       'Water Quality Modeler', 'Big Data Engineer',\n",
       "       'Senior Statistical Market Research Analyst',\n",
       "       'Machine Learning Research Scientist - Hedgefund',\n",
       "       'Senior Data Analyst, Bureau of Sexually Transmitted Disease',\n",
       "       'SR. SCIENTIST', 'Quality Assurance Officer',\n",
       "       'Project Coordinator, Bureau of HIV/AIDS Prevention and Contr...',\n",
       "       'Policy Data Analyst', 'Market Research Senior Analyst',\n",
       "       'Assurance Coordinator, Bureau of Sexually Transmitted Diseas...',\n",
       "       'Market Research Analyst', 'Survey Methodologist',\n",
       "       'Predictive Risk Analyst',\n",
       "       'Research Analyst, Bureau of Systems Strengthening and Access',\n",
       "       'Predictive Analytics Professionals-- ROAD WARRIORS',\n",
       "       'Program Coordinator',\n",
       "       'Surveillance analyst, Bureau of Communicable Diseases',\n",
       "       'Junior Research Analyst, Family and Child Health Administrat...',\n",
       "       'STATISTICIAN, LEVEL I', 'Machine Learning Data Engineer',\n",
       "       'Machine Learning Engineer Entry Level',\n",
       "       'Researcher and Data Analyst, Developmental Disabilities',\n",
       "       'Reportable Disease Analyst, Bureau of Communicable Diseases',\n",
       "       'Molecular Biology Researcher', 'Property Valuation Modeler',\n",
       "       'Program Research Specialist III',\n",
       "       'Analyst, Strategy & Insights \\xe2\\x80\\x93 Custom Research',\n",
       "       'Evaluator/Statistician, Family and Child Health/Bureau of Sc...',\n",
       "       'Statistician \\xe2\\x80\\x93 Trading Firm', 'Child Welfare Analyst',\n",
       "       'Technical Researcher', 'Research Analyst',\n",
       "       'Senior Research Analyst',\n",
       "       'HIV Phylogenetic Testing Group Leader, Bureau of Public Heal...',\n",
       "       'JR. Full Stack Developer',\n",
       "       'Data Use and Research Analyst, Bureau of Vital Statistics',\n",
       "       'Assistant Research Scientist (Virology) - 34114',\n",
       "       'Executive Director of Data Governance',\n",
       "       'Machine Learning Engineer',\n",
       "       'NSF-Sponsored Postdoctoral Fellow: EEG Analysis',\n",
       "       'Emergency Preparedness Coordinator, Bureau of Healthcare Sys...',\n",
       "       'Research Associate, Bureau of Systems Strengthening and Acce...',\n",
       "       'Director of Predictive Analytics (Statistician)',\n",
       "       'Data Scientist Programmer/Specialist', 'Research Scientist',\n",
       "       'Engineering Scientist - R and D Algorithm and System Develop...',\n",
       "       'Research Engineering/ Scientist Associate IV',\n",
       "       'Senior Deep Learning Data Scientist',\n",
       "       'Research Associate - R and D Data Scientist',\n",
       "       'Engineering Scientist Associate - GNSS Analyst Associate',\n",
       "       'Statistician III-IV, HSOC, THP-Austin',\n",
       "       'Engineering Scientist Associate - R and D Software Developer',\n",
       "       'Linkage Specialist', 'Research Analyst/Operations',\n",
       "       'Engineering Scientist - Underwater Robotics Algorithm Lead',\n",
       "       'Data Scientist - North Austin/80k/Analytics',\n",
       "       'Engineering Scientist - GNSS Analyst', 'Data Scientist - Big Data',\n",
       "       'Engineering Scientist Associate - Underwater Robotics Algori...',\n",
       "       'Research Analyst/Customer Serv',\n",
       "       'Research Associate - Array Processing Scientist',\n",
       "       'Research Engineering/ Scientist Assistant - Laboratory Techn...',\n",
       "       'Research Engineering/ Scientist Associate IV - Spatial Data...',\n",
       "       'Institutional Research Analyst',\n",
       "       'Robotics software engineer (involves machine learning, AI, a...',\n",
       "       'Research Analyst (excel, analysis, client-facing)',\n",
       "       'International Environmental Specialist',\n",
       "       'Engineering Scientist Associate - Software Defined Radio Rec...',\n",
       "       'Engineering Scientist - Senior Software Defined Radio Receiv...',\n",
       "       'Engineering Scientist - Geospatial Application Software Deve...',\n",
       "       'Research Engineering/ Scientist Associate II - Paleontology...',\n",
       "       'Engineering Scientist Associate - Software Engineering Assoc...',\n",
       "       'Digital Data Scientist', 'Data Science Engineer',\n",
       "       'Data Scientist (Software Engineering)',\n",
       "       'Sr. Data Scientist, Compensation Analytics',\n",
       "       'Software Development Engineer (Machine Learning)',\n",
       "       'Business Intelligence Data Scientist',\n",
       "       'RESEARCH STUDY COORDINATOR 2 (50%)',\n",
       "       'Senior Business Intelligence Data Scientist',\n",
       "       'Research Associate- CHO Cell Process Development',\n",
       "       'PROPERTY AND EVIDENCE CUSTODIAN', 'STOCKROOM ATTENDANT 2',\n",
       "       'DRIVER-WAREHOUSE WORKER', 'RESEARCH STUDY ASSISTANT',\n",
       "       'SERVICE DESK ANALYST', 'Senior Business Intelligence Scientist',\n",
       "       'Trace Organics - Environmental Lab Scientist II',\n",
       "       'PATIENT FINANCIAL SERVICES SPECIALIST 2',\n",
       "       'OFFICE OPERATIONS AND ACCESSIONS ANALYST',\n",
       "       'MEDICAL LABORATORY SCIENTIST-TRAINEE OR 1',\n",
       "       'COMPUTER MAINTENANCE TECHNICIAN 3',\n",
       "       'Medical Technologist (Laboratory Information Manager)',\n",
       "       'Business Intelligence Scientist',\n",
       "       'CONTACT CENTER REPRESENTATIVE 1 - CANDIDATE BANK',\n",
       "       'Sr. Global Device Manager', 'Administrative Assistant',\n",
       "       'ELECTRONIC INVOICE SPECIALIST, HMC ACCTS PAYABLE',\n",
       "       'CLINICAL LABORATORY TECHNICIAN 1', 'CHARGE CAPTURE COORDINATOR',\n",
       "       'Postdoc / Research Scientist', 'MEDICAL LABORATORY SCIENTIST 2',\n",
       "       'MEDICAL LABORATORY SCIENTIST 1 OR TRAINEE', 'Statistician',\n",
       "       'Data Analyst / Scientist', 'Business Data Analyst',\n",
       "       'Senior Data Scientist (Python, R) in Des Plaines',\n",
       "       '(Sr.) Statistical Consultant', 'Statistical Analyst',\n",
       "       'Product Development Specialist - Food R&D',\n",
       "       'Manager of Data Science (Python, R)',\n",
       "       'Data Scientist -Fitness/Wellness Firm',\n",
       "       'Quantitative Researcher, Machine Learning & Bayesian inferen...',\n",
       "       'Food Scientist MS or PhD - Meat Products', 'Lead Data Engineer',\n",
       "       'Director of Data Analytics',\n",
       "       'Senior Data Scientist (Deep Learning or NLP)',\n",
       "       'Director of Data Science', 'Assistant Director Biostatistics',\n",
       "       'Technical Project Manager/Business Analyst', 'Data Engineer',\n",
       "       'Equity Research Analyst \\xe2\\x80\\x93 Biotech - Chicago, IL',\n",
       "       'Associate Director Statistics Phase I',\n",
       "       'Mid-Level C# .NET Software Engineer',\n",
       "       'Manager Health Information Management Data Analysis HIM',\n",
       "       'Senior Java Computer Scientist'], dtype=object)"
      ]
     },
     "execution_count": 157,
     "metadata": {},
     "output_type": "execute_result"
    }
   ],
   "source": [
    "# Let's group some important key words from the 'Title' column into feature columns\n",
    "df['title'].unique()"
   ]
  },
  {
   "cell_type": "code",
   "execution_count": 158,
   "metadata": {
    "collapsed": false,
    "scrolled": false
   },
   "outputs": [
    {
     "data": {
      "text/html": [
       "<div>\n",
       "<table border=\"1\" class=\"dataframe\">\n",
       "  <thead>\n",
       "    <tr style=\"text-align: right;\">\n",
       "      <th></th>\n",
       "      <th>city</th>\n",
       "      <th>company</th>\n",
       "      <th>salary</th>\n",
       "      <th>summary</th>\n",
       "      <th>title</th>\n",
       "      <th>parsed_salary</th>\n",
       "      <th>Title</th>\n",
       "    </tr>\n",
       "  </thead>\n",
       "  <tbody>\n",
       "    <tr>\n",
       "      <th>0</th>\n",
       "      <td>San Francisco</td>\n",
       "      <td>MarkMonitor</td>\n",
       "      <td>1</td>\n",
       "      <td>Data skills (SQL, Hive, Pig). Applying machine...</td>\n",
       "      <td>Data Scientist</td>\n",
       "      <td>180000.0</td>\n",
       "      <td>Other Jobs</td>\n",
       "    </tr>\n",
       "    <tr>\n",
       "      <th>1</th>\n",
       "      <td>San Francisco</td>\n",
       "      <td>Workbridge Associates</td>\n",
       "      <td>1</td>\n",
       "      <td>3+ years of industry experience in a data scie...</td>\n",
       "      <td>Senior Data Scientist</td>\n",
       "      <td>155000.0</td>\n",
       "      <td>Senior Data Scientist</td>\n",
       "    </tr>\n",
       "    <tr>\n",
       "      <th>2</th>\n",
       "      <td>San Francisco</td>\n",
       "      <td>Mines.io</td>\n",
       "      <td>1</td>\n",
       "      <td>We are looking for a data scientist/developer ...</td>\n",
       "      <td>Full-Stack Data Scientist</td>\n",
       "      <td>100000.0</td>\n",
       "      <td>Other Jobs</td>\n",
       "    </tr>\n",
       "    <tr>\n",
       "      <th>3</th>\n",
       "      <td>San Francisco</td>\n",
       "      <td>Workbridge Associates</td>\n",
       "      <td>1</td>\n",
       "      <td>In this position you will share programming an...</td>\n",
       "      <td>Data Scientist</td>\n",
       "      <td>165000.0</td>\n",
       "      <td>Other Jobs</td>\n",
       "    </tr>\n",
       "    <tr>\n",
       "      <th>4</th>\n",
       "      <td>San Francisco</td>\n",
       "      <td>Smith Hanley Associates</td>\n",
       "      <td>1</td>\n",
       "      <td>This person will recruit, build and lead a tea...</td>\n",
       "      <td>Data Scientist</td>\n",
       "      <td>140000.0</td>\n",
       "      <td>Other Jobs</td>\n",
       "    </tr>\n",
       "  </tbody>\n",
       "</table>\n",
       "</div>"
      ],
      "text/plain": [
       "            city                  company  salary  \\\n",
       "0  San Francisco              MarkMonitor       1   \n",
       "1  San Francisco    Workbridge Associates       1   \n",
       "2  San Francisco                 Mines.io       1   \n",
       "3  San Francisco    Workbridge Associates       1   \n",
       "4  San Francisco  Smith Hanley Associates       1   \n",
       "\n",
       "                                             summary  \\\n",
       "0  Data skills (SQL, Hive, Pig). Applying machine...   \n",
       "1  3+ years of industry experience in a data scie...   \n",
       "2  We are looking for a data scientist/developer ...   \n",
       "3  In this position you will share programming an...   \n",
       "4  This person will recruit, build and lead a tea...   \n",
       "\n",
       "                       title  parsed_salary                  Title  \n",
       "0             Data Scientist       180000.0             Other Jobs  \n",
       "1      Senior Data Scientist       155000.0  Senior Data Scientist  \n",
       "2  Full-Stack Data Scientist       100000.0             Other Jobs  \n",
       "3             Data Scientist       165000.0             Other Jobs  \n",
       "4             Data Scientist       140000.0             Other Jobs  "
      ]
     },
     "execution_count": 158,
     "metadata": {},
     "output_type": "execute_result"
    }
   ],
   "source": [
    "def title_categorizer(x):\n",
    "    x = x.lower()\n",
    "    if 'junior' in x or 'jr' in x or 'assistant' in x:\n",
    "        return 'Junior Data Scientist'\n",
    "    elif 'senior' in x or 'sr' in x or 'vp' in x:\n",
    "        return 'Senior Data Scientist'\n",
    "    elif 'analyst' in x:\n",
    "        return 'Data Analyst'\n",
    "    elif 'manager' in x:\n",
    "        return 'Manager'\n",
    "    else:\n",
    "        return 'Other Jobs'\n",
    "    \n",
    "df['Title'] = df['title'].map(title_categorizer)\n",
    "df.head(5)"
   ]
  },
  {
   "cell_type": "code",
   "execution_count": 159,
   "metadata": {
    "collapsed": true
   },
   "outputs": [],
   "source": [
    "# # Let's group some important key words from the 'Summary' column into feature columns"
   ]
  },
  {
   "cell_type": "code",
   "execution_count": 160,
   "metadata": {
    "collapsed": false,
    "scrolled": false
   },
   "outputs": [
    {
     "data": {
      "text/html": [
       "<div>\n",
       "<table border=\"1\" class=\"dataframe\">\n",
       "  <thead>\n",
       "    <tr style=\"text-align: right;\">\n",
       "      <th></th>\n",
       "      <th>city</th>\n",
       "      <th>company</th>\n",
       "      <th>salary</th>\n",
       "      <th>summary</th>\n",
       "      <th>title</th>\n",
       "      <th>parsed_salary</th>\n",
       "      <th>Title</th>\n",
       "      <th>Summary</th>\n",
       "    </tr>\n",
       "  </thead>\n",
       "  <tbody>\n",
       "    <tr>\n",
       "      <th>0</th>\n",
       "      <td>San Francisco</td>\n",
       "      <td>MarkMonitor</td>\n",
       "      <td>1</td>\n",
       "      <td>Data skills (SQL, Hive, Pig). Applying machine...</td>\n",
       "      <td>Data Scientist</td>\n",
       "      <td>180000.0</td>\n",
       "      <td>Other Jobs</td>\n",
       "      <td>machine learning</td>\n",
       "    </tr>\n",
       "    <tr>\n",
       "      <th>1</th>\n",
       "      <td>San Francisco</td>\n",
       "      <td>Workbridge Associates</td>\n",
       "      <td>1</td>\n",
       "      <td>3+ years of industry experience in a data scie...</td>\n",
       "      <td>Senior Data Scientist</td>\n",
       "      <td>155000.0</td>\n",
       "      <td>Senior Data Scientist</td>\n",
       "      <td>python</td>\n",
       "    </tr>\n",
       "    <tr>\n",
       "      <th>2</th>\n",
       "      <td>San Francisco</td>\n",
       "      <td>Mines.io</td>\n",
       "      <td>1</td>\n",
       "      <td>We are looking for a data scientist/developer ...</td>\n",
       "      <td>Full-Stack Data Scientist</td>\n",
       "      <td>100000.0</td>\n",
       "      <td>Other Jobs</td>\n",
       "      <td>developer</td>\n",
       "    </tr>\n",
       "    <tr>\n",
       "      <th>3</th>\n",
       "      <td>San Francisco</td>\n",
       "      <td>Workbridge Associates</td>\n",
       "      <td>1</td>\n",
       "      <td>In this position you will share programming an...</td>\n",
       "      <td>Data Scientist</td>\n",
       "      <td>165000.0</td>\n",
       "      <td>Other Jobs</td>\n",
       "      <td>Other</td>\n",
       "    </tr>\n",
       "    <tr>\n",
       "      <th>4</th>\n",
       "      <td>San Francisco</td>\n",
       "      <td>Smith Hanley Associates</td>\n",
       "      <td>1</td>\n",
       "      <td>This person will recruit, build and lead a tea...</td>\n",
       "      <td>Data Scientist</td>\n",
       "      <td>140000.0</td>\n",
       "      <td>Other Jobs</td>\n",
       "      <td>Other</td>\n",
       "    </tr>\n",
       "  </tbody>\n",
       "</table>\n",
       "</div>"
      ],
      "text/plain": [
       "            city                  company  salary  \\\n",
       "0  San Francisco              MarkMonitor       1   \n",
       "1  San Francisco    Workbridge Associates       1   \n",
       "2  San Francisco                 Mines.io       1   \n",
       "3  San Francisco    Workbridge Associates       1   \n",
       "4  San Francisco  Smith Hanley Associates       1   \n",
       "\n",
       "                                             summary  \\\n",
       "0  Data skills (SQL, Hive, Pig). Applying machine...   \n",
       "1  3+ years of industry experience in a data scie...   \n",
       "2  We are looking for a data scientist/developer ...   \n",
       "3  In this position you will share programming an...   \n",
       "4  This person will recruit, build and lead a tea...   \n",
       "\n",
       "                       title  parsed_salary                  Title  \\\n",
       "0             Data Scientist       180000.0             Other Jobs   \n",
       "1      Senior Data Scientist       155000.0  Senior Data Scientist   \n",
       "2  Full-Stack Data Scientist       100000.0             Other Jobs   \n",
       "3             Data Scientist       165000.0             Other Jobs   \n",
       "4             Data Scientist       140000.0             Other Jobs   \n",
       "\n",
       "            Summary  \n",
       "0  machine learning  \n",
       "1            python  \n",
       "2         developer  \n",
       "3             Other  \n",
       "4             Other  "
      ]
     },
     "execution_count": 160,
     "metadata": {},
     "output_type": "execute_result"
    }
   ],
   "source": [
    "def summary_categorizer(x):\n",
    "    x = x.lower()\n",
    "    if 'python' in x:\n",
    "        return 'python'\n",
    "    elif 'big data' in x:\n",
    "        return 'big data'\n",
    "    elif 'machine learning' in x:\n",
    "        return 'machine learning'\n",
    "    elif 'stat' in x:\n",
    "        return 'statitician'\n",
    "    elif 'sql' in x:\n",
    "        return 'SQL'\n",
    "    elif 'develop' in x:\n",
    "        return 'developer'\n",
    "    elif 'data engineer' in x:\n",
    "        return 'Data Engineer'\n",
    "    elif 'natural language processing' in x:\n",
    "        return 'NLP'\n",
    "    elif 'geospatial' in x:\n",
    "        return 'Geospatial'\n",
    "    else:\n",
    "        return 'Other'\n",
    "    \n",
    "df['Summary'] = df['summary'].map(summary_categorizer)\n",
    "df.head()"
   ]
  },
  {
   "cell_type": "code",
   "execution_count": 161,
   "metadata": {
    "collapsed": false
   },
   "outputs": [
    {
     "data": {
      "text/html": [
       "<div>\n",
       "<table border=\"1\" class=\"dataframe\">\n",
       "  <thead>\n",
       "    <tr style=\"text-align: right;\">\n",
       "      <th></th>\n",
       "      <th>salary</th>\n",
       "      <th>Title</th>\n",
       "      <th>Summary</th>\n",
       "    </tr>\n",
       "  </thead>\n",
       "  <tbody>\n",
       "    <tr>\n",
       "      <th>0</th>\n",
       "      <td>1</td>\n",
       "      <td>Other Jobs</td>\n",
       "      <td>machine learning</td>\n",
       "    </tr>\n",
       "    <tr>\n",
       "      <th>1</th>\n",
       "      <td>1</td>\n",
       "      <td>Senior Data Scientist</td>\n",
       "      <td>python</td>\n",
       "    </tr>\n",
       "    <tr>\n",
       "      <th>2</th>\n",
       "      <td>1</td>\n",
       "      <td>Other Jobs</td>\n",
       "      <td>developer</td>\n",
       "    </tr>\n",
       "    <tr>\n",
       "      <th>3</th>\n",
       "      <td>1</td>\n",
       "      <td>Other Jobs</td>\n",
       "      <td>Other</td>\n",
       "    </tr>\n",
       "    <tr>\n",
       "      <th>4</th>\n",
       "      <td>1</td>\n",
       "      <td>Other Jobs</td>\n",
       "      <td>Other</td>\n",
       "    </tr>\n",
       "  </tbody>\n",
       "</table>\n",
       "</div>"
      ],
      "text/plain": [
       "   salary                  Title           Summary\n",
       "0       1             Other Jobs  machine learning\n",
       "1       1  Senior Data Scientist            python\n",
       "2       1             Other Jobs         developer\n",
       "3       1             Other Jobs             Other\n",
       "4       1             Other Jobs             Other"
      ]
     },
     "execution_count": 161,
     "metadata": {},
     "output_type": "execute_result"
    }
   ],
   "source": [
    "feature_df = pd.DataFrame(df, columns = ['salary', 'Title', 'Summary'])\n",
    "feature_df.head()"
   ]
  },
  {
   "cell_type": "code",
   "execution_count": 162,
   "metadata": {
    "collapsed": false,
    "scrolled": true
   },
   "outputs": [
    {
     "data": {
      "text/html": [
       "<div>\n",
       "<table border=\"1\" class=\"dataframe\">\n",
       "  <thead>\n",
       "    <tr style=\"text-align: right;\">\n",
       "      <th></th>\n",
       "      <th>salary</th>\n",
       "      <th>Title_Data Analyst</th>\n",
       "      <th>Title_Junior Data Scientist</th>\n",
       "      <th>Title_Manager</th>\n",
       "      <th>Title_Other Jobs</th>\n",
       "      <th>Title_Senior Data Scientist</th>\n",
       "      <th>Summary_Data Engineer</th>\n",
       "      <th>Summary_NLP</th>\n",
       "      <th>Summary_Other</th>\n",
       "      <th>Summary_SQL</th>\n",
       "      <th>Summary_big data</th>\n",
       "      <th>Summary_developer</th>\n",
       "      <th>Summary_machine learning</th>\n",
       "      <th>Summary_python</th>\n",
       "      <th>Summary_statitician</th>\n",
       "    </tr>\n",
       "  </thead>\n",
       "  <tbody>\n",
       "    <tr>\n",
       "      <th>0</th>\n",
       "      <td>1</td>\n",
       "      <td>0.0</td>\n",
       "      <td>0.0</td>\n",
       "      <td>0.0</td>\n",
       "      <td>1.0</td>\n",
       "      <td>0.0</td>\n",
       "      <td>0.0</td>\n",
       "      <td>0.0</td>\n",
       "      <td>0.0</td>\n",
       "      <td>0.0</td>\n",
       "      <td>0.0</td>\n",
       "      <td>0.0</td>\n",
       "      <td>1.0</td>\n",
       "      <td>0.0</td>\n",
       "      <td>0.0</td>\n",
       "    </tr>\n",
       "    <tr>\n",
       "      <th>1</th>\n",
       "      <td>1</td>\n",
       "      <td>0.0</td>\n",
       "      <td>0.0</td>\n",
       "      <td>0.0</td>\n",
       "      <td>0.0</td>\n",
       "      <td>1.0</td>\n",
       "      <td>0.0</td>\n",
       "      <td>0.0</td>\n",
       "      <td>0.0</td>\n",
       "      <td>0.0</td>\n",
       "      <td>0.0</td>\n",
       "      <td>0.0</td>\n",
       "      <td>0.0</td>\n",
       "      <td>1.0</td>\n",
       "      <td>0.0</td>\n",
       "    </tr>\n",
       "    <tr>\n",
       "      <th>2</th>\n",
       "      <td>1</td>\n",
       "      <td>0.0</td>\n",
       "      <td>0.0</td>\n",
       "      <td>0.0</td>\n",
       "      <td>1.0</td>\n",
       "      <td>0.0</td>\n",
       "      <td>0.0</td>\n",
       "      <td>0.0</td>\n",
       "      <td>0.0</td>\n",
       "      <td>0.0</td>\n",
       "      <td>0.0</td>\n",
       "      <td>1.0</td>\n",
       "      <td>0.0</td>\n",
       "      <td>0.0</td>\n",
       "      <td>0.0</td>\n",
       "    </tr>\n",
       "    <tr>\n",
       "      <th>3</th>\n",
       "      <td>1</td>\n",
       "      <td>0.0</td>\n",
       "      <td>0.0</td>\n",
       "      <td>0.0</td>\n",
       "      <td>1.0</td>\n",
       "      <td>0.0</td>\n",
       "      <td>0.0</td>\n",
       "      <td>0.0</td>\n",
       "      <td>1.0</td>\n",
       "      <td>0.0</td>\n",
       "      <td>0.0</td>\n",
       "      <td>0.0</td>\n",
       "      <td>0.0</td>\n",
       "      <td>0.0</td>\n",
       "      <td>0.0</td>\n",
       "    </tr>\n",
       "    <tr>\n",
       "      <th>4</th>\n",
       "      <td>1</td>\n",
       "      <td>0.0</td>\n",
       "      <td>0.0</td>\n",
       "      <td>0.0</td>\n",
       "      <td>1.0</td>\n",
       "      <td>0.0</td>\n",
       "      <td>0.0</td>\n",
       "      <td>0.0</td>\n",
       "      <td>1.0</td>\n",
       "      <td>0.0</td>\n",
       "      <td>0.0</td>\n",
       "      <td>0.0</td>\n",
       "      <td>0.0</td>\n",
       "      <td>0.0</td>\n",
       "      <td>0.0</td>\n",
       "    </tr>\n",
       "  </tbody>\n",
       "</table>\n",
       "</div>"
      ],
      "text/plain": [
       "   salary  Title_Data Analyst  Title_Junior Data Scientist  Title_Manager  \\\n",
       "0       1                 0.0                          0.0            0.0   \n",
       "1       1                 0.0                          0.0            0.0   \n",
       "2       1                 0.0                          0.0            0.0   \n",
       "3       1                 0.0                          0.0            0.0   \n",
       "4       1                 0.0                          0.0            0.0   \n",
       "\n",
       "   Title_Other Jobs  Title_Senior Data Scientist  Summary_Data Engineer  \\\n",
       "0               1.0                          0.0                    0.0   \n",
       "1               0.0                          1.0                    0.0   \n",
       "2               1.0                          0.0                    0.0   \n",
       "3               1.0                          0.0                    0.0   \n",
       "4               1.0                          0.0                    0.0   \n",
       "\n",
       "   Summary_NLP  Summary_Other  Summary_SQL  Summary_big data  \\\n",
       "0          0.0            0.0          0.0               0.0   \n",
       "1          0.0            0.0          0.0               0.0   \n",
       "2          0.0            0.0          0.0               0.0   \n",
       "3          0.0            1.0          0.0               0.0   \n",
       "4          0.0            1.0          0.0               0.0   \n",
       "\n",
       "   Summary_developer  Summary_machine learning  Summary_python  \\\n",
       "0                0.0                       1.0             0.0   \n",
       "1                0.0                       0.0             1.0   \n",
       "2                1.0                       0.0             0.0   \n",
       "3                0.0                       0.0             0.0   \n",
       "4                0.0                       0.0             0.0   \n",
       "\n",
       "   Summary_statitician  \n",
       "0                  0.0  \n",
       "1                  0.0  \n",
       "2                  0.0  \n",
       "3                  0.0  \n",
       "4                  0.0  "
      ]
     },
     "execution_count": 162,
     "metadata": {},
     "output_type": "execute_result"
    }
   ],
   "source": [
    "feature_df2 = pd.get_dummies(feature_df)\n",
    "feature_df2.head()"
   ]
  },
  {
   "cell_type": "code",
   "execution_count": 163,
   "metadata": {
    "collapsed": false
   },
   "outputs": [
    {
     "data": {
      "text/plain": [
       "array(['salary', 'Title_Data Analyst', 'Title_Junior Data Scientist',\n",
       "       'Title_Manager', 'Title_Other Jobs', 'Title_Senior Data Scientist',\n",
       "       'Summary_Data Engineer', 'Summary_NLP', 'Summary_Other',\n",
       "       'Summary_SQL', 'Summary_big data', 'Summary_developer',\n",
       "       'Summary_machine learning', 'Summary_python', 'Summary_statitician'], dtype=object)"
      ]
     },
     "execution_count": 163,
     "metadata": {},
     "output_type": "execute_result"
    }
   ],
   "source": [
    "feature_df2.columns.values"
   ]
  },
  {
   "cell_type": "code",
   "execution_count": 164,
   "metadata": {
    "collapsed": false
   },
   "outputs": [
    {
     "data": {
      "text/html": [
       "<div>\n",
       "<table border=\"1\" class=\"dataframe\">\n",
       "  <thead>\n",
       "    <tr style=\"text-align: right;\">\n",
       "      <th></th>\n",
       "      <th>salary</th>\n",
       "      <th>Title_Data Analyst</th>\n",
       "      <th>Title_Junior Data Scientist</th>\n",
       "      <th>Title_Manager</th>\n",
       "      <th>Title_Senior Data Scientist</th>\n",
       "      <th>Summary_Data Engineer</th>\n",
       "      <th>Summary_NLP</th>\n",
       "      <th>Summary_SQL</th>\n",
       "      <th>Summary_big data</th>\n",
       "      <th>Summary_developer</th>\n",
       "      <th>Summary_machine learning</th>\n",
       "      <th>Summary_python</th>\n",
       "      <th>Summary_statitician</th>\n",
       "    </tr>\n",
       "  </thead>\n",
       "  <tbody>\n",
       "    <tr>\n",
       "      <th>0</th>\n",
       "      <td>1</td>\n",
       "      <td>0.0</td>\n",
       "      <td>0.0</td>\n",
       "      <td>0.0</td>\n",
       "      <td>0.0</td>\n",
       "      <td>0.0</td>\n",
       "      <td>0.0</td>\n",
       "      <td>0.0</td>\n",
       "      <td>0.0</td>\n",
       "      <td>0.0</td>\n",
       "      <td>1.0</td>\n",
       "      <td>0.0</td>\n",
       "      <td>0.0</td>\n",
       "    </tr>\n",
       "    <tr>\n",
       "      <th>1</th>\n",
       "      <td>1</td>\n",
       "      <td>0.0</td>\n",
       "      <td>0.0</td>\n",
       "      <td>0.0</td>\n",
       "      <td>1.0</td>\n",
       "      <td>0.0</td>\n",
       "      <td>0.0</td>\n",
       "      <td>0.0</td>\n",
       "      <td>0.0</td>\n",
       "      <td>0.0</td>\n",
       "      <td>0.0</td>\n",
       "      <td>1.0</td>\n",
       "      <td>0.0</td>\n",
       "    </tr>\n",
       "    <tr>\n",
       "      <th>2</th>\n",
       "      <td>1</td>\n",
       "      <td>0.0</td>\n",
       "      <td>0.0</td>\n",
       "      <td>0.0</td>\n",
       "      <td>0.0</td>\n",
       "      <td>0.0</td>\n",
       "      <td>0.0</td>\n",
       "      <td>0.0</td>\n",
       "      <td>0.0</td>\n",
       "      <td>1.0</td>\n",
       "      <td>0.0</td>\n",
       "      <td>0.0</td>\n",
       "      <td>0.0</td>\n",
       "    </tr>\n",
       "    <tr>\n",
       "      <th>3</th>\n",
       "      <td>1</td>\n",
       "      <td>0.0</td>\n",
       "      <td>0.0</td>\n",
       "      <td>0.0</td>\n",
       "      <td>0.0</td>\n",
       "      <td>0.0</td>\n",
       "      <td>0.0</td>\n",
       "      <td>0.0</td>\n",
       "      <td>0.0</td>\n",
       "      <td>0.0</td>\n",
       "      <td>0.0</td>\n",
       "      <td>0.0</td>\n",
       "      <td>0.0</td>\n",
       "    </tr>\n",
       "    <tr>\n",
       "      <th>4</th>\n",
       "      <td>1</td>\n",
       "      <td>0.0</td>\n",
       "      <td>0.0</td>\n",
       "      <td>0.0</td>\n",
       "      <td>0.0</td>\n",
       "      <td>0.0</td>\n",
       "      <td>0.0</td>\n",
       "      <td>0.0</td>\n",
       "      <td>0.0</td>\n",
       "      <td>0.0</td>\n",
       "      <td>0.0</td>\n",
       "      <td>0.0</td>\n",
       "      <td>0.0</td>\n",
       "    </tr>\n",
       "  </tbody>\n",
       "</table>\n",
       "</div>"
      ],
      "text/plain": [
       "   salary  Title_Data Analyst  Title_Junior Data Scientist  Title_Manager  \\\n",
       "0       1                 0.0                          0.0            0.0   \n",
       "1       1                 0.0                          0.0            0.0   \n",
       "2       1                 0.0                          0.0            0.0   \n",
       "3       1                 0.0                          0.0            0.0   \n",
       "4       1                 0.0                          0.0            0.0   \n",
       "\n",
       "   Title_Senior Data Scientist  Summary_Data Engineer  Summary_NLP  \\\n",
       "0                          0.0                    0.0          0.0   \n",
       "1                          1.0                    0.0          0.0   \n",
       "2                          0.0                    0.0          0.0   \n",
       "3                          0.0                    0.0          0.0   \n",
       "4                          0.0                    0.0          0.0   \n",
       "\n",
       "   Summary_SQL  Summary_big data  Summary_developer  Summary_machine learning  \\\n",
       "0          0.0               0.0                0.0                       1.0   \n",
       "1          0.0               0.0                0.0                       0.0   \n",
       "2          0.0               0.0                1.0                       0.0   \n",
       "3          0.0               0.0                0.0                       0.0   \n",
       "4          0.0               0.0                0.0                       0.0   \n",
       "\n",
       "   Summary_python  Summary_statitician  \n",
       "0             0.0                  0.0  \n",
       "1             1.0                  0.0  \n",
       "2             0.0                  0.0  \n",
       "3             0.0                  0.0  \n",
       "4             0.0                  0.0  "
      ]
     },
     "execution_count": 164,
     "metadata": {},
     "output_type": "execute_result"
    }
   ],
   "source": [
    "#dat=dat.drop(['a'], axis=1, inplace=true)\n",
    "#X = feature_df.drop(['salary'], axis=1)\n",
    "\n",
    "X = feature_df2.drop(['Title_Other Jobs', 'Summary_Other'], axis=1)\n",
    "X.head()"
   ]
  },
  {
   "cell_type": "code",
   "execution_count": 165,
   "metadata": {
    "collapsed": false
   },
   "outputs": [
    {
     "data": {
      "text/plain": [
       "4.0"
      ]
     },
     "execution_count": 165,
     "metadata": {},
     "output_type": "execute_result"
    }
   ],
   "source": [
    "X['Summary_SQL'].sum()"
   ]
  },
  {
   "cell_type": "code",
   "execution_count": 166,
   "metadata": {
    "collapsed": false
   },
   "outputs": [
    {
     "data": {
      "text/plain": [
       "(4789, 13)"
      ]
     },
     "execution_count": 166,
     "metadata": {},
     "output_type": "execute_result"
    }
   ],
   "source": [
    "X.shape"
   ]
  },
  {
   "cell_type": "code",
   "execution_count": 167,
   "metadata": {
    "collapsed": false,
    "scrolled": true
   },
   "outputs": [
    {
     "data": {
      "text/html": [
       "<div>\n",
       "<table border=\"1\" class=\"dataframe\">\n",
       "  <thead>\n",
       "    <tr style=\"text-align: right;\">\n",
       "      <th></th>\n",
       "      <th>salary</th>\n",
       "      <th>Title_Data Analyst</th>\n",
       "      <th>Title_Junior Data Scientist</th>\n",
       "      <th>Title_Manager</th>\n",
       "      <th>Title_Senior Data Scientist</th>\n",
       "      <th>Summary_Data Engineer</th>\n",
       "      <th>Summary_NLP</th>\n",
       "      <th>Summary_SQL</th>\n",
       "      <th>Summary_big data</th>\n",
       "      <th>Summary_developer</th>\n",
       "      <th>Summary_machine learning</th>\n",
       "      <th>Summary_python</th>\n",
       "      <th>Summary_statitician</th>\n",
       "    </tr>\n",
       "  </thead>\n",
       "  <tbody>\n",
       "    <tr>\n",
       "      <th>salary</th>\n",
       "      <td>1.000000</td>\n",
       "      <td>-0.040280</td>\n",
       "      <td>-0.024069</td>\n",
       "      <td>0.221204</td>\n",
       "      <td>0.415154</td>\n",
       "      <td>0.010692</td>\n",
       "      <td>0.010692</td>\n",
       "      <td>0.021390</td>\n",
       "      <td>0.206777</td>\n",
       "      <td>0.389813</td>\n",
       "      <td>0.010873</td>\n",
       "      <td>0.222429</td>\n",
       "      <td>-0.011777</td>\n",
       "    </tr>\n",
       "    <tr>\n",
       "      <th>Title_Data Analyst</th>\n",
       "      <td>-0.040280</td>\n",
       "      <td>1.000000</td>\n",
       "      <td>-0.004657</td>\n",
       "      <td>-0.027785</td>\n",
       "      <td>-0.052657</td>\n",
       "      <td>-0.001343</td>\n",
       "      <td>-0.001343</td>\n",
       "      <td>0.232681</td>\n",
       "      <td>-0.025972</td>\n",
       "      <td>-0.033874</td>\n",
       "      <td>-0.004657</td>\n",
       "      <td>-0.027938</td>\n",
       "      <td>0.091895</td>\n",
       "    </tr>\n",
       "    <tr>\n",
       "      <th>Title_Junior Data Scientist</th>\n",
       "      <td>-0.024069</td>\n",
       "      <td>-0.004657</td>\n",
       "      <td>1.000000</td>\n",
       "      <td>-0.014986</td>\n",
       "      <td>-0.028401</td>\n",
       "      <td>-0.000724</td>\n",
       "      <td>-0.000724</td>\n",
       "      <td>-0.001449</td>\n",
       "      <td>0.002103</td>\n",
       "      <td>-0.017052</td>\n",
       "      <td>-0.002512</td>\n",
       "      <td>-0.015069</td>\n",
       "      <td>0.177759</td>\n",
       "    </tr>\n",
       "    <tr>\n",
       "      <th>Title_Manager</th>\n",
       "      <td>0.221204</td>\n",
       "      <td>-0.027785</td>\n",
       "      <td>-0.014986</td>\n",
       "      <td>1.000000</td>\n",
       "      <td>-0.169430</td>\n",
       "      <td>-0.004321</td>\n",
       "      <td>-0.004321</td>\n",
       "      <td>-0.008645</td>\n",
       "      <td>-0.083569</td>\n",
       "      <td>-0.159523</td>\n",
       "      <td>-0.014986</td>\n",
       "      <td>-0.089894</td>\n",
       "      <td>-0.020771</td>\n",
       "    </tr>\n",
       "    <tr>\n",
       "      <th>Title_Senior Data Scientist</th>\n",
       "      <td>0.415154</td>\n",
       "      <td>-0.052657</td>\n",
       "      <td>-0.028401</td>\n",
       "      <td>-0.169430</td>\n",
       "      <td>1.000000</td>\n",
       "      <td>-0.008189</td>\n",
       "      <td>-0.008189</td>\n",
       "      <td>-0.016384</td>\n",
       "      <td>-0.150868</td>\n",
       "      <td>0.127550</td>\n",
       "      <td>-0.008926</td>\n",
       "      <td>-0.166836</td>\n",
       "      <td>-0.004157</td>\n",
       "    </tr>\n",
       "    <tr>\n",
       "      <th>Summary_Data Engineer</th>\n",
       "      <td>0.010692</td>\n",
       "      <td>-0.001343</td>\n",
       "      <td>-0.000724</td>\n",
       "      <td>-0.004321</td>\n",
       "      <td>-0.008189</td>\n",
       "      <td>1.000000</td>\n",
       "      <td>-0.000209</td>\n",
       "      <td>-0.000418</td>\n",
       "      <td>-0.004039</td>\n",
       "      <td>-0.007798</td>\n",
       "      <td>-0.000724</td>\n",
       "      <td>-0.004345</td>\n",
       "      <td>-0.001004</td>\n",
       "    </tr>\n",
       "    <tr>\n",
       "      <th>Summary_NLP</th>\n",
       "      <td>0.010692</td>\n",
       "      <td>-0.001343</td>\n",
       "      <td>-0.000724</td>\n",
       "      <td>-0.004321</td>\n",
       "      <td>-0.008189</td>\n",
       "      <td>-0.000209</td>\n",
       "      <td>1.000000</td>\n",
       "      <td>-0.000418</td>\n",
       "      <td>-0.004039</td>\n",
       "      <td>-0.007798</td>\n",
       "      <td>-0.000724</td>\n",
       "      <td>-0.004345</td>\n",
       "      <td>-0.001004</td>\n",
       "    </tr>\n",
       "    <tr>\n",
       "      <th>Summary_SQL</th>\n",
       "      <td>0.021390</td>\n",
       "      <td>0.232681</td>\n",
       "      <td>-0.001449</td>\n",
       "      <td>-0.008645</td>\n",
       "      <td>-0.016384</td>\n",
       "      <td>-0.000418</td>\n",
       "      <td>-0.000418</td>\n",
       "      <td>1.000000</td>\n",
       "      <td>-0.008081</td>\n",
       "      <td>-0.015602</td>\n",
       "      <td>-0.001449</td>\n",
       "      <td>-0.008693</td>\n",
       "      <td>-0.002009</td>\n",
       "    </tr>\n",
       "    <tr>\n",
       "      <th>Summary_big data</th>\n",
       "      <td>0.206777</td>\n",
       "      <td>-0.025972</td>\n",
       "      <td>0.002103</td>\n",
       "      <td>-0.083569</td>\n",
       "      <td>-0.150868</td>\n",
       "      <td>-0.004039</td>\n",
       "      <td>-0.004039</td>\n",
       "      <td>-0.008081</td>\n",
       "      <td>1.000000</td>\n",
       "      <td>-0.150820</td>\n",
       "      <td>-0.014008</td>\n",
       "      <td>-0.084031</td>\n",
       "      <td>-0.019416</td>\n",
       "    </tr>\n",
       "    <tr>\n",
       "      <th>Summary_developer</th>\n",
       "      <td>0.389813</td>\n",
       "      <td>-0.033874</td>\n",
       "      <td>-0.017052</td>\n",
       "      <td>-0.159523</td>\n",
       "      <td>0.127550</td>\n",
       "      <td>-0.007798</td>\n",
       "      <td>-0.007798</td>\n",
       "      <td>-0.015602</td>\n",
       "      <td>-0.150820</td>\n",
       "      <td>1.000000</td>\n",
       "      <td>-0.027046</td>\n",
       "      <td>-0.162236</td>\n",
       "      <td>-0.037486</td>\n",
       "    </tr>\n",
       "    <tr>\n",
       "      <th>Summary_machine learning</th>\n",
       "      <td>0.010873</td>\n",
       "      <td>-0.004657</td>\n",
       "      <td>-0.002512</td>\n",
       "      <td>-0.014986</td>\n",
       "      <td>-0.008926</td>\n",
       "      <td>-0.000724</td>\n",
       "      <td>-0.000724</td>\n",
       "      <td>-0.001449</td>\n",
       "      <td>-0.014008</td>\n",
       "      <td>-0.027046</td>\n",
       "      <td>1.000000</td>\n",
       "      <td>-0.015069</td>\n",
       "      <td>-0.003482</td>\n",
       "    </tr>\n",
       "    <tr>\n",
       "      <th>Summary_python</th>\n",
       "      <td>0.222429</td>\n",
       "      <td>-0.027938</td>\n",
       "      <td>-0.015069</td>\n",
       "      <td>-0.089894</td>\n",
       "      <td>-0.166836</td>\n",
       "      <td>-0.004345</td>\n",
       "      <td>-0.004345</td>\n",
       "      <td>-0.008693</td>\n",
       "      <td>-0.084031</td>\n",
       "      <td>-0.162236</td>\n",
       "      <td>-0.015069</td>\n",
       "      <td>1.000000</td>\n",
       "      <td>-0.020886</td>\n",
       "    </tr>\n",
       "    <tr>\n",
       "      <th>Summary_statitician</th>\n",
       "      <td>-0.011777</td>\n",
       "      <td>0.091895</td>\n",
       "      <td>0.177759</td>\n",
       "      <td>-0.020771</td>\n",
       "      <td>-0.004157</td>\n",
       "      <td>-0.001004</td>\n",
       "      <td>-0.001004</td>\n",
       "      <td>-0.002009</td>\n",
       "      <td>-0.019416</td>\n",
       "      <td>-0.037486</td>\n",
       "      <td>-0.003482</td>\n",
       "      <td>-0.020886</td>\n",
       "      <td>1.000000</td>\n",
       "    </tr>\n",
       "  </tbody>\n",
       "</table>\n",
       "</div>"
      ],
      "text/plain": [
       "                               salary  Title_Data Analyst  \\\n",
       "salary                       1.000000           -0.040280   \n",
       "Title_Data Analyst          -0.040280            1.000000   \n",
       "Title_Junior Data Scientist -0.024069           -0.004657   \n",
       "Title_Manager                0.221204           -0.027785   \n",
       "Title_Senior Data Scientist  0.415154           -0.052657   \n",
       "Summary_Data Engineer        0.010692           -0.001343   \n",
       "Summary_NLP                  0.010692           -0.001343   \n",
       "Summary_SQL                  0.021390            0.232681   \n",
       "Summary_big data             0.206777           -0.025972   \n",
       "Summary_developer            0.389813           -0.033874   \n",
       "Summary_machine learning     0.010873           -0.004657   \n",
       "Summary_python               0.222429           -0.027938   \n",
       "Summary_statitician         -0.011777            0.091895   \n",
       "\n",
       "                             Title_Junior Data Scientist  Title_Manager  \\\n",
       "salary                                         -0.024069       0.221204   \n",
       "Title_Data Analyst                             -0.004657      -0.027785   \n",
       "Title_Junior Data Scientist                     1.000000      -0.014986   \n",
       "Title_Manager                                  -0.014986       1.000000   \n",
       "Title_Senior Data Scientist                    -0.028401      -0.169430   \n",
       "Summary_Data Engineer                          -0.000724      -0.004321   \n",
       "Summary_NLP                                    -0.000724      -0.004321   \n",
       "Summary_SQL                                    -0.001449      -0.008645   \n",
       "Summary_big data                                0.002103      -0.083569   \n",
       "Summary_developer                              -0.017052      -0.159523   \n",
       "Summary_machine learning                       -0.002512      -0.014986   \n",
       "Summary_python                                 -0.015069      -0.089894   \n",
       "Summary_statitician                             0.177759      -0.020771   \n",
       "\n",
       "                             Title_Senior Data Scientist  \\\n",
       "salary                                          0.415154   \n",
       "Title_Data Analyst                             -0.052657   \n",
       "Title_Junior Data Scientist                    -0.028401   \n",
       "Title_Manager                                  -0.169430   \n",
       "Title_Senior Data Scientist                     1.000000   \n",
       "Summary_Data Engineer                          -0.008189   \n",
       "Summary_NLP                                    -0.008189   \n",
       "Summary_SQL                                    -0.016384   \n",
       "Summary_big data                               -0.150868   \n",
       "Summary_developer                               0.127550   \n",
       "Summary_machine learning                       -0.008926   \n",
       "Summary_python                                 -0.166836   \n",
       "Summary_statitician                            -0.004157   \n",
       "\n",
       "                             Summary_Data Engineer  Summary_NLP  Summary_SQL  \\\n",
       "salary                                    0.010692     0.010692     0.021390   \n",
       "Title_Data Analyst                       -0.001343    -0.001343     0.232681   \n",
       "Title_Junior Data Scientist              -0.000724    -0.000724    -0.001449   \n",
       "Title_Manager                            -0.004321    -0.004321    -0.008645   \n",
       "Title_Senior Data Scientist              -0.008189    -0.008189    -0.016384   \n",
       "Summary_Data Engineer                     1.000000    -0.000209    -0.000418   \n",
       "Summary_NLP                              -0.000209     1.000000    -0.000418   \n",
       "Summary_SQL                              -0.000418    -0.000418     1.000000   \n",
       "Summary_big data                         -0.004039    -0.004039    -0.008081   \n",
       "Summary_developer                        -0.007798    -0.007798    -0.015602   \n",
       "Summary_machine learning                 -0.000724    -0.000724    -0.001449   \n",
       "Summary_python                           -0.004345    -0.004345    -0.008693   \n",
       "Summary_statitician                      -0.001004    -0.001004    -0.002009   \n",
       "\n",
       "                             Summary_big data  Summary_developer  \\\n",
       "salary                               0.206777           0.389813   \n",
       "Title_Data Analyst                  -0.025972          -0.033874   \n",
       "Title_Junior Data Scientist          0.002103          -0.017052   \n",
       "Title_Manager                       -0.083569          -0.159523   \n",
       "Title_Senior Data Scientist         -0.150868           0.127550   \n",
       "Summary_Data Engineer               -0.004039          -0.007798   \n",
       "Summary_NLP                         -0.004039          -0.007798   \n",
       "Summary_SQL                         -0.008081          -0.015602   \n",
       "Summary_big data                     1.000000          -0.150820   \n",
       "Summary_developer                   -0.150820           1.000000   \n",
       "Summary_machine learning            -0.014008          -0.027046   \n",
       "Summary_python                      -0.084031          -0.162236   \n",
       "Summary_statitician                 -0.019416          -0.037486   \n",
       "\n",
       "                             Summary_machine learning  Summary_python  \\\n",
       "salary                                       0.010873        0.222429   \n",
       "Title_Data Analyst                          -0.004657       -0.027938   \n",
       "Title_Junior Data Scientist                 -0.002512       -0.015069   \n",
       "Title_Manager                               -0.014986       -0.089894   \n",
       "Title_Senior Data Scientist                 -0.008926       -0.166836   \n",
       "Summary_Data Engineer                       -0.000724       -0.004345   \n",
       "Summary_NLP                                 -0.000724       -0.004345   \n",
       "Summary_SQL                                 -0.001449       -0.008693   \n",
       "Summary_big data                            -0.014008       -0.084031   \n",
       "Summary_developer                           -0.027046       -0.162236   \n",
       "Summary_machine learning                     1.000000       -0.015069   \n",
       "Summary_python                              -0.015069        1.000000   \n",
       "Summary_statitician                         -0.003482       -0.020886   \n",
       "\n",
       "                             Summary_statitician  \n",
       "salary                                 -0.011777  \n",
       "Title_Data Analyst                      0.091895  \n",
       "Title_Junior Data Scientist             0.177759  \n",
       "Title_Manager                          -0.020771  \n",
       "Title_Senior Data Scientist            -0.004157  \n",
       "Summary_Data Engineer                  -0.001004  \n",
       "Summary_NLP                            -0.001004  \n",
       "Summary_SQL                            -0.002009  \n",
       "Summary_big data                       -0.019416  \n",
       "Summary_developer                      -0.037486  \n",
       "Summary_machine learning               -0.003482  \n",
       "Summary_python                         -0.020886  \n",
       "Summary_statitician                     1.000000  "
      ]
     },
     "execution_count": 167,
     "metadata": {},
     "output_type": "execute_result"
    }
   ],
   "source": [
    "X_corr = X.corr()\n",
    "X_corr"
   ]
  },
  {
   "cell_type": "code",
   "execution_count": 168,
   "metadata": {
    "collapsed": false
   },
   "outputs": [
    {
     "data": {
      "image/png": "[encoded data removed]",
      "text/plain": [
       "<matplotlib.figure.Figure at 0x1164da450>"
      ]
     },
     "metadata": {},
     "output_type": "display_data"
    }
   ],
   "source": [
    "# Set the default matplotlib figure size to 7x7:\n",
    "plt.rcParams['figure.figsize']=(15,15)\n",
    "\n",
    "# Generate a mask for the upper triangle (taken from seaborn example gallery)\n",
    "mask = np.zeros_like(X_corr, dtype=np.bool)\n",
    "mask[np.triu_indices_from(mask)] = True\n",
    "\n",
    "# Plot the heatmap with seaborn.\n",
    "# Assign the matplotlib axis the function returns. This will let us resize the labels.\n",
    "ax = sns.heatmap(X_corr, mask=mask, annot=True)\n",
    "\n",
    "# Resize the labels.\n",
    "ax.set_xticklabels(ax.xaxis.get_ticklabels(), fontsize=7)\n",
    "ax.set_yticklabels(ax.yaxis.get_ticklabels(), fontsize=7)\n",
    "\n",
    "plt.show()"
   ]
  },
  {
   "cell_type": "markdown",
   "metadata": {},
   "source": [
    "# Let's create a Target Variable in y"
   ]
  },
  {
   "cell_type": "code",
   "execution_count": 169,
   "metadata": {
    "collapsed": true
   },
   "outputs": [],
   "source": [
    "y = feature_df['salary']"
   ]
  },
  {
   "cell_type": "markdown",
   "metadata": {},
   "source": [
    "# And, now Feature Variables in X"
   ]
  },
  {
   "cell_type": "code",
   "execution_count": 170,
   "metadata": {
    "collapsed": false
   },
   "outputs": [
    {
     "data": {
      "text/plain": [
       "array(['Title_Data Analyst', 'Title_Junior Data Scientist',\n",
       "       'Title_Manager', 'Title_Senior Data Scientist',\n",
       "       'Summary_Data Engineer', 'Summary_NLP', 'Summary_SQL',\n",
       "       'Summary_big data', 'Summary_developer', 'Summary_machine learning',\n",
       "       'Summary_python', 'Summary_statitician'], dtype=object)"
      ]
     },
     "execution_count": 170,
     "metadata": {},
     "output_type": "execute_result"
    }
   ],
   "source": [
    "X = X.drop(['salary'], axis=1)\n",
    "X.columns.values"
   ]
  },
  {
   "cell_type": "markdown",
   "metadata": {
    "focus": false,
    "id": "04563b69-f7b6-466f-9d65-fc62c9ddee6a"
   },
   "source": [
    "## Predicting salaries using Logistic Regression"
   ]
  },
  {
   "cell_type": "code",
   "execution_count": 171,
   "metadata": {
    "collapsed": false
   },
   "outputs": [],
   "source": [
    "from sklearn.model_selection import train_test_split\n",
    "from sklearn.preprocessing import StandardScaler\n",
    "from sklearn.feature_selection import SelectKBest, f_regression\n",
    "from sklearn.linear_model import Ridge, Lasso, LinearRegression, SGDRegressor, ElasticNet\n",
    "from sklearn.feature_selection import RFE\n",
    "from sklearn.linear_model import LogisticRegression\n",
    "from sklearn.metrics import mean_absolute_error, mean_squared_error, r2_score\n",
    "from sklearn import linear_model\n",
    "from sklearn import metrics\n",
    "from sklearn import datasets\n",
    "from sklearn.neighbors import KNeighborsClassifier\n",
    "from sklearn.cross_validation import cross_val_score, StratifiedKFold\n",
    "from sklearn.grid_search import GridSearchCV\n",
    "from sklearn.metrics import classification_report\n",
    "from sklearn.metrics import confusion_matrix\n",
    "import statsmodels.api as sm\n",
    "\n"
   ]
  },
  {
   "cell_type": "code",
   "execution_count": null,
   "metadata": {
    "collapsed": true
   },
   "outputs": [],
   "source": [
    "logit_model=sm.Logit(X, y)\n",
    "result=logit_model.fit()\n",
    "print result.summary()"
   ]
  },
  {
   "cell_type": "code",
   "execution_count": 74,
   "metadata": {
    "collapsed": true
   },
   "outputs": [],
   "source": [
    "# Perform Train_Test_Split"
   ]
  },
  {
   "cell_type": "code",
   "execution_count": 172,
   "metadata": {
    "collapsed": false
   },
   "outputs": [
    {
     "data": {
      "text/plain": [
       "LogisticRegression(C=0.01, class_weight=None, dual=False, fit_intercept=True,\n",
       "          intercept_scaling=1, max_iter=100, multi_class='ovr', n_jobs=1,\n",
       "          penalty='l2', random_state=None, solver='liblinear', tol=0.0001,\n",
       "          verbose=0, warm_start=False)"
      ]
     },
     "execution_count": 172,
     "metadata": {},
     "output_type": "execute_result"
    }
   ],
   "source": [
    "clf = linear_model.LogisticRegression(C=.01)\n",
    "clf.fit(X, y)"
   ]
  },
  {
   "cell_type": "code",
   "execution_count": 173,
   "metadata": {
    "collapsed": false
   },
   "outputs": [
    {
     "data": {
      "text/plain": [
       "0.97640425976195444"
      ]
     },
     "execution_count": 173,
     "metadata": {},
     "output_type": "execute_result"
    }
   ],
   "source": [
    "clf.score(X,y)"
   ]
  },
  {
   "cell_type": "code",
   "execution_count": 174,
   "metadata": {
    "collapsed": false
   },
   "outputs": [
    {
     "data": {
      "text/plain": [
       "LogisticRegression(C=1.0, class_weight=None, dual=False, fit_intercept=True,\n",
       "          intercept_scaling=1, max_iter=100, multi_class='ovr', n_jobs=1,\n",
       "          penalty='l2', random_state=None, solver='liblinear', tol=0.0001,\n",
       "          verbose=0, warm_start=False)"
      ]
     },
     "execution_count": 174,
     "metadata": {},
     "output_type": "execute_result"
    }
   ],
   "source": [
    "X_train, X_test, y_train, y_test = train_test_split(X, y, test_size=0.3, random_state=0)\n",
    "clf1 = linear_model.LogisticRegression()\n",
    "clf1.fit(X_train, y_train)"
   ]
  },
  {
   "cell_type": "code",
   "execution_count": 175,
   "metadata": {
    "collapsed": false
   },
   "outputs": [
    {
     "data": {
      "text/plain": [
       "array([[ 0.01715815,  0.98284185],\n",
       "       [ 0.02612233,  0.97387767],\n",
       "       [ 0.02283247,  0.97716753],\n",
       "       [ 0.02407238,  0.97592762],\n",
       "       [ 0.02407238,  0.97592762]])"
      ]
     },
     "execution_count": 175,
     "metadata": {},
     "output_type": "execute_result"
    }
   ],
   "source": [
    "probs = clf1.predict_proba(X_test)\n",
    "probs[:5]"
   ]
  },
  {
   "cell_type": "code",
   "execution_count": 176,
   "metadata": {
    "collapsed": false
   },
   "outputs": [
    {
     "data": {
      "text/plain": [
       "array([1, 1, 1, 1, 1])"
      ]
     },
     "execution_count": 176,
     "metadata": {},
     "output_type": "execute_result"
    }
   ],
   "source": [
    "predicted = clf1.predict(X_test)\n",
    "predicted[:5]"
   ]
  },
  {
   "cell_type": "code",
   "execution_count": 177,
   "metadata": {
    "collapsed": false
   },
   "outputs": [
    {
     "data": {
      "text/html": [
       "<div>\n",
       "<table border=\"1\" class=\"dataframe\">\n",
       "  <thead>\n",
       "    <tr style=\"text-align: right;\">\n",
       "      <th></th>\n",
       "      <th>0</th>\n",
       "      <th>predict</th>\n",
       "    </tr>\n",
       "  </thead>\n",
       "  <tbody>\n",
       "    <tr>\n",
       "      <th>0</th>\n",
       "      <td>0.982842</td>\n",
       "      <td>1</td>\n",
       "    </tr>\n",
       "    <tr>\n",
       "      <th>1</th>\n",
       "      <td>0.973878</td>\n",
       "      <td>1</td>\n",
       "    </tr>\n",
       "    <tr>\n",
       "      <th>2</th>\n",
       "      <td>0.977168</td>\n",
       "      <td>1</td>\n",
       "    </tr>\n",
       "    <tr>\n",
       "      <th>3</th>\n",
       "      <td>0.975928</td>\n",
       "      <td>1</td>\n",
       "    </tr>\n",
       "    <tr>\n",
       "      <th>4</th>\n",
       "      <td>0.975928</td>\n",
       "      <td>1</td>\n",
       "    </tr>\n",
       "  </tbody>\n",
       "</table>\n",
       "</div>"
      ],
      "text/plain": [
       "          0  predict\n",
       "0  0.982842        1\n",
       "1  0.973878        1\n",
       "2  0.977168        1\n",
       "3  0.975928        1\n",
       "4  0.975928        1"
      ]
     },
     "execution_count": 177,
     "metadata": {},
     "output_type": "execute_result"
    }
   ],
   "source": [
    "prob=probs[:,1]\n",
    "prob_df=pd.DataFrame(prob)\n",
    "prob_df['predict']=np.where(prob_df[0]>=0.15,1,0)\n",
    "prob_df.head()"
   ]
  },
  {
   "cell_type": "code",
   "execution_count": 178,
   "metadata": {
    "collapsed": false
   },
   "outputs": [
    {
     "data": {
      "text/plain": [
       "0.6256089074460682"
      ]
     },
     "execution_count": 178,
     "metadata": {},
     "output_type": "execute_result"
    }
   ],
   "source": [
    "prob_df.predict.mean()"
   ]
  },
  {
   "cell_type": "code",
   "execution_count": 179,
   "metadata": {
    "collapsed": false
   },
   "outputs": [
    {
     "name": "stdout",
     "output_type": "stream",
     "text": [
      "0.975643702157\n"
     ]
    }
   ],
   "source": [
    "print metrics.accuracy_score(y_true=y_test, y_pred=predicted)"
   ]
  },
  {
   "cell_type": "code",
   "execution_count": 180,
   "metadata": {
    "collapsed": false
   },
   "outputs": [
    {
     "data": {
      "text/plain": [
       "0.6256089074460682"
      ]
     },
     "execution_count": 180,
     "metadata": {},
     "output_type": "execute_result"
    }
   ],
   "source": [
    "prob_df['predict']=np.where(prob_df[0]>=0.15,1,0)\n",
    "prob_df.predict.mean()"
   ]
  },
  {
   "cell_type": "code",
   "execution_count": 181,
   "metadata": {
    "collapsed": false
   },
   "outputs": [
    {
     "name": "stdout",
     "output_type": "stream",
     "text": [
      "0.975643702157\n"
     ]
    }
   ],
   "source": [
    "print metrics.accuracy_score(y_true=y_test, y_pred=predicted)"
   ]
  },
  {
   "cell_type": "code",
   "execution_count": 182,
   "metadata": {
    "collapsed": false
   },
   "outputs": [
    {
     "data": {
      "text/html": [
       "<div>\n",
       "<table border=\"1\" class=\"dataframe\">\n",
       "  <thead>\n",
       "    <tr style=\"text-align: right;\">\n",
       "      <th></th>\n",
       "      <th>0</th>\n",
       "      <th>predict</th>\n",
       "      <th>actual</th>\n",
       "    </tr>\n",
       "  </thead>\n",
       "  <tbody>\n",
       "    <tr>\n",
       "      <th>0</th>\n",
       "      <td>0.982842</td>\n",
       "      <td>1</td>\n",
       "      <td>1</td>\n",
       "    </tr>\n",
       "    <tr>\n",
       "      <th>1</th>\n",
       "      <td>0.973878</td>\n",
       "      <td>1</td>\n",
       "      <td>1</td>\n",
       "    </tr>\n",
       "    <tr>\n",
       "      <th>2</th>\n",
       "      <td>0.977168</td>\n",
       "      <td>1</td>\n",
       "      <td>1</td>\n",
       "    </tr>\n",
       "    <tr>\n",
       "      <th>3</th>\n",
       "      <td>0.975928</td>\n",
       "      <td>1</td>\n",
       "      <td>1</td>\n",
       "    </tr>\n",
       "    <tr>\n",
       "      <th>4</th>\n",
       "      <td>0.975928</td>\n",
       "      <td>1</td>\n",
       "      <td>1</td>\n",
       "    </tr>\n",
       "  </tbody>\n",
       "</table>\n",
       "</div>"
      ],
      "text/plain": [
       "          0  predict  actual\n",
       "0  0.982842        1       1\n",
       "1  0.973878        1       1\n",
       "2  0.977168        1       1\n",
       "3  0.975928        1       1\n",
       "4  0.975928        1       1"
      ]
     },
     "execution_count": 182,
     "metadata": {},
     "output_type": "execute_result"
    }
   ],
   "source": [
    "prob=probs[:,1]\n",
    "prob_df=pd.DataFrame(prob)\n",
    "prob_df['predict']=np.where(prob_df[0]>=0.05,1,0)\n",
    "prob_df\n",
    "prob_df['actual']=y_test.values\n",
    "prob_df.head()"
   ]
  },
  {
   "cell_type": "code",
   "execution_count": 183,
   "metadata": {
    "collapsed": false
   },
   "outputs": [
    {
     "data": {
      "text/html": [
       "<div>\n",
       "<table border=\"1\" class=\"dataframe\">\n",
       "  <thead>\n",
       "    <tr style=\"text-align: right;\">\n",
       "      <th>predict</th>\n",
       "      <th>1</th>\n",
       "    </tr>\n",
       "    <tr>\n",
       "      <th>actual</th>\n",
       "      <th></th>\n",
       "    </tr>\n",
       "  </thead>\n",
       "  <tbody>\n",
       "    <tr>\n",
       "      <th>0</th>\n",
       "      <td>534</td>\n",
       "    </tr>\n",
       "    <tr>\n",
       "      <th>1</th>\n",
       "      <td>903</td>\n",
       "    </tr>\n",
       "  </tbody>\n",
       "</table>\n",
       "</div>"
      ],
      "text/plain": [
       "predict    1\n",
       "actual      \n",
       "0        534\n",
       "1        903"
      ]
     },
     "execution_count": 183,
     "metadata": {},
     "output_type": "execute_result"
    }
   ],
   "source": [
    "confusion_matrix=pd.crosstab(prob_df['actual'],prob_df['predict'])\n",
    "confusion_matrix"
   ]
  },
  {
   "cell_type": "code",
   "execution_count": 184,
   "metadata": {
    "collapsed": false
   },
   "outputs": [
    {
     "data": {
      "text/html": [
       "<div>\n",
       "<table border=\"1\" class=\"dataframe\">\n",
       "  <thead>\n",
       "    <tr style=\"text-align: right;\">\n",
       "      <th>predict</th>\n",
       "      <th>0</th>\n",
       "      <th>1</th>\n",
       "    </tr>\n",
       "    <tr>\n",
       "      <th>actual</th>\n",
       "      <th></th>\n",
       "      <th></th>\n",
       "    </tr>\n",
       "  </thead>\n",
       "  <tbody>\n",
       "    <tr>\n",
       "      <th>0</th>\n",
       "      <td>517</td>\n",
       "      <td>17</td>\n",
       "    </tr>\n",
       "    <tr>\n",
       "      <th>1</th>\n",
       "      <td>21</td>\n",
       "      <td>882</td>\n",
       "    </tr>\n",
       "  </tbody>\n",
       "</table>\n",
       "</div>"
      ],
      "text/plain": [
       "predict    0    1\n",
       "actual           \n",
       "0        517   17\n",
       "1         21  882"
      ]
     },
     "execution_count": 184,
     "metadata": {},
     "output_type": "execute_result"
    }
   ],
   "source": [
    "prob=probs[:,1]\n",
    "prob_df=pd.DataFrame(prob)\n",
    "prob_df['predict']=np.where(prob_df[0]>=0.10,1,0)\n",
    "prob_df\n",
    "prob_df['actual']=y_test.values\n",
    "confusion_matrix=pd.crosstab(prob_df['actual'],prob_df['predict'])\n",
    "confusion_matrix"
   ]
  },
  {
   "cell_type": "code",
   "execution_count": 185,
   "metadata": {
    "collapsed": false,
    "scrolled": true
   },
   "outputs": [
    {
     "data": {
      "text/plain": [
       "<matplotlib.text.Text at 0x117735390>"
      ]
     },
     "execution_count": 185,
     "metadata": {},
     "output_type": "execute_result"
    },
    {
     "data": {
      "image/png": "[encoded data removed]",
      "text/plain": [
       "<matplotlib.figure.Figure at 0x116761a50>"
      ]
     },
     "metadata": {},
     "output_type": "display_data"
    }
   ],
   "source": [
    "Sensitivity=[1,0.95,0.87,0.62,0.67,0.59,0.5,0.41,0]\n",
    "FPR=[1,0.76,0.62,0.23,0.27,0.17,0.12,0.07,0]\n",
    "plt.plot(FPR,Sensitivity,marker='o',linestyle='--',color='r')\n",
    "x=[i*0.01 for i in range(100)]\n",
    "y=[i*0.01 for i in range(100)]\n",
    "plt.plot(x,y)\n",
    "plt.xlabel('(1-Specificity)')\n",
    "plt.ylabel('Sensitivity')\n",
    "plt.title('ROC Curve')"
   ]
  },
  {
   "cell_type": "code",
   "execution_count": 186,
   "metadata": {
    "collapsed": false
   },
   "outputs": [
    {
     "name": "stdout",
     "output_type": "stream",
     "text": [
      "Train Score: 0.978818615752\n",
      " Test Score: 0.976339596381\n"
     ]
    }
   ],
   "source": [
    "knn = KNeighborsClassifier()\n",
    "knn.fit(X_train, y_train)\n",
    "print(\"Train Score: {}\".format(knn.score(X_train, y_train)))\n",
    "print(\" Test Score: {}\".format(knn.score(X_test, y_test)))"
   ]
  },
  {
   "cell_type": "code",
   "execution_count": 81,
   "metadata": {
    "collapsed": false
   },
   "outputs": [],
   "source": [
    "def standard_classification_knn(X, y, n_neighbors, random_state):\n",
    "    X_train,     \\\n",
    "        X_test,  \\\n",
    "        y_train, \\\n",
    "        y_test = train_test_split(X, y, \n",
    "                                  random_state=random_state)\n",
    "\n",
    "    y_train = np.ravel(y_train)\n",
    "    y_test = np.ravel(y_test)\n",
    "    \n",
    "    knn = KNeighborsClassifier(n_neighbors=n_neighbors, n_jobs=-1)\n",
    "    knn.fit(X_train, y_train)\n",
    "    \n",
    "    train_score = knn.score(X_train, y_train)\n",
    "    test_score = knn.score(X_test, y_test)\n",
    "    \n",
    "    print(\"{} \".format(n_neighbors))\n",
    "    \n",
    "    return {'n_neighbors': n_neighbors,\n",
    "            'train_score' : train_score,\n",
    "            'test_score' : test_score}\n"
   ]
  },
  {
   "cell_type": "code",
   "execution_count": 82,
   "metadata": {
    "collapsed": false
   },
   "outputs": [
    {
     "name": "stdout",
     "output_type": "stream",
     "text": [
      "3 \n"
     ]
    },
    {
     "data": {
      "text/plain": [
       "{'n_neighbors': 3,\n",
       " 'test_score': 0.97495826377295491,\n",
       " 'train_score': 0.97939292676134782}"
      ]
     },
     "execution_count": 82,
     "metadata": {},
     "output_type": "execute_result"
    }
   ],
   "source": [
    "standard_classification_knn(X, y, 3, random_state=42) "
   ]
  },
  {
   "cell_type": "code",
   "execution_count": 83,
   "metadata": {
    "collapsed": false,
    "scrolled": true
   },
   "outputs": [
    {
     "name": "stdout",
     "output_type": "stream",
     "text": [
      "2 \n",
      "3 \n",
      "4 \n",
      "5 \n",
      "6 \n",
      "7 \n",
      "8 \n",
      "9 \n",
      "10 \n",
      "11 \n",
      "12 \n",
      "13 \n",
      "14 \n",
      "15 \n",
      "16 \n",
      "17 \n",
      "18 \n",
      "19 \n"
     ]
    },
    {
     "data": {
      "text/html": [
       "<div>\n",
       "<table border=\"1\" class=\"dataframe\">\n",
       "  <thead>\n",
       "    <tr style=\"text-align: right;\">\n",
       "      <th></th>\n",
       "      <th>n_neighbors</th>\n",
       "      <th>test_score</th>\n",
       "      <th>train_score</th>\n",
       "    </tr>\n",
       "  </thead>\n",
       "  <tbody>\n",
       "    <tr>\n",
       "      <th>0</th>\n",
       "      <td>2</td>\n",
       "      <td>0.974124</td>\n",
       "      <td>0.979114</td>\n",
       "    </tr>\n",
       "    <tr>\n",
       "      <th>1</th>\n",
       "      <td>3</td>\n",
       "      <td>0.974958</td>\n",
       "      <td>0.979393</td>\n",
       "    </tr>\n",
       "  </tbody>\n",
       "</table>\n",
       "</div>"
      ],
      "text/plain": [
       "   n_neighbors  test_score  train_score\n",
       "0            2    0.974124     0.979114\n",
       "1            3    0.974958     0.979393"
      ]
     },
     "execution_count": 83,
     "metadata": {},
     "output_type": "execute_result"
    }
   ],
   "source": [
    "results = [standard_classification_knn(X, y, n_neighbors, random_state=42) for n_neighbors in range(2,20)]\n",
    "\n",
    "results_df = pd.DataFrame(results)\n",
    "results_df.head(2)"
   ]
  },
  {
   "cell_type": "code",
   "execution_count": 84,
   "metadata": {
    "collapsed": false,
    "scrolled": true
   },
   "outputs": [
    {
     "data": {
      "text/plain": [
       "<matplotlib.legend.Legend at 0x1179aa450>"
      ]
     },
     "execution_count": 84,
     "metadata": {},
     "output_type": "execute_result"
    },
    {
     "data": {
      "image/png": "[encoded data removed]",
      "text/plain": [
       "<matplotlib.figure.Figure at 0x1174ea610>"
      ]
     },
     "metadata": {},
     "output_type": "display_data"
    }
   ],
   "source": [
    "plt.plot(results_df['n_neighbors'], results_df['test_score'], label='test score')\n",
    "plt.plot(results_df['n_neighbors'], results_df['train_score'], label='training score')\n",
    "plt.legend()"
   ]
  },
  {
   "cell_type": "code",
   "execution_count": 85,
   "metadata": {
    "collapsed": false
   },
   "outputs": [
    {
     "name": "stdout",
     "output_type": "stream",
     "text": [
      "2 \n",
      "3 \n",
      "4 \n",
      "5 \n",
      "6 \n",
      "7 \n",
      "8 \n",
      "9 \n",
      "10 \n",
      "11 \n",
      "12 \n",
      "13 \n",
      "14 \n",
      "15 \n",
      "16 \n",
      "17 \n",
      "18 \n",
      "19 \n"
     ]
    },
    {
     "data": {
      "text/plain": [
       "<matplotlib.legend.Legend at 0x1176ee890>"
      ]
     },
     "execution_count": 85,
     "metadata": {},
     "output_type": "execute_result"
    },
    {
     "data": {
      "image/png": "[encoded data removed]",
      "text/plain": [
       "<matplotlib.figure.Figure at 0x119d03690>"
      ]
     },
     "metadata": {},
     "output_type": "display_data"
    }
   ],
   "source": [
    "results = [standard_classification_knn(X, y, n_neighbors, random_state=21) for n_neighbors in range(2,20)]\n",
    "\n",
    "results_df = pd.DataFrame(results)\n",
    "plt.plot(results_df['n_neighbors'], results_df['test_score'], label='test score')\n",
    "plt.plot(results_df['n_neighbors'], results_df['train_score'], label='training score')\n",
    "plt.legend()"
   ]
  },
  {
   "cell_type": "code",
   "execution_count": 33,
   "metadata": {
    "collapsed": false,
    "scrolled": true
   },
   "outputs": [
    {
     "name": "stdout",
     "output_type": "stream",
     "text": [
      "[ True  True  True  True  True  True  True  True  True  True  True  True]\n",
      "[1 1 1 1 1 1 1 1 1 1 1 1]\n"
     ]
    }
   ],
   "source": [
    "X_train, X_test, y_train, y_test = train_test_split(X, y, random_state=42)\n",
    "\n",
    "model = LogisticRegression()\n",
    "rfe = RFE(model, 12)\n",
    "rfe = rfe.fit(X, y)\n",
    "print(rfe.support_)\n",
    "print(rfe.ranking_)"
   ]
  },
  {
   "cell_type": "code",
   "execution_count": 34,
   "metadata": {
    "collapsed": false,
    "scrolled": false
   },
   "outputs": [
    {
     "data": {
      "text/plain": [
       "['Title_Data Analyst',\n",
       " 'Title_Junior Data Scientist',\n",
       " 'Title_Manager',\n",
       " 'Title_Senior Data Scientist',\n",
       " 'Summary_Data Engineer',\n",
       " 'Summary_NLP',\n",
       " 'Summary_SQL',\n",
       " 'Summary_big data',\n",
       " 'Summary_developer',\n",
       " 'Summary_machine learning',\n",
       " 'Summary_python',\n",
       " 'Summary_statitician']"
      ]
     },
     "execution_count": 34,
     "metadata": {},
     "output_type": "execute_result"
    }
   ],
   "source": [
    "cols = X.columns.values[rfe.support_].tolist()\n",
    "cols"
   ]
  },
  {
   "cell_type": "code",
   "execution_count": 124,
   "metadata": {
    "collapsed": true
   },
   "outputs": [],
   "source": [
    "X = X[cols]"
   ]
  },
  {
   "cell_type": "code",
   "execution_count": 35,
   "metadata": {
    "collapsed": false
   },
   "outputs": [
    {
     "name": "stdout",
     "output_type": "stream",
     "text": [
      "Fitting 5 folds for each of 200 candidates, totalling 1000 fits\n",
      "{'n_neighbors': 1, 'weights': 'uniform'}\n"
     ]
    },
    {
     "name": "stderr",
     "output_type": "stream",
     "text": [
      "[Parallel(n_jobs=1)]: Done 1000 out of 1000 | elapsed:  2.9min finished\n"
     ]
    }
   ],
   "source": [
    "params = {\n",
    "    'n_neighbors':range(1,101),\n",
    "    'weights':['uniform','distance']\n",
    "}\n",
    "\n",
    "knn = KNeighborsClassifier()\n",
    "\n",
    "knn_gs = GridSearchCV(knn, params, cv=5, verbose=1)\n",
    "knn_gs.fit(X, y)\n",
    "\n",
    "print knn_gs.best_params_\n",
    "best_knn = knn_gs.best_estimator_"
   ]
  },
  {
   "cell_type": "code",
   "execution_count": 36,
   "metadata": {
    "collapsed": false
   },
   "outputs": [
    {
     "name": "stdout",
     "output_type": "stream",
     "text": [
      "[ 0.65208333  0.60833333  0.64375     0.64583333  0.64718163  0.64644351\n",
      "  0.62761506  0.64644351  0.64644351  0.65690377]\n",
      "0.642103100078\n"
     ]
    }
   ],
   "source": [
    "knn = KNeighborsClassifier(n_neighbors=17, weights='distance')\n",
    "scores = cross_val_score(knn, X, y, cv=10)\n",
    "print scores\n",
    "print np.mean(scores)"
   ]
  },
  {
   "cell_type": "code",
   "execution_count": 86,
   "metadata": {
    "collapsed": false,
    "focus": false,
    "id": "588f9845-6143-4bcc-bfd1-85d45b79303d"
   },
   "outputs": [],
   "source": [
    "def validate_inputs(X, y, X_test, y_test, random_state=None):\n",
    "    if X_test is None and y_test is None:\n",
    "        X_train, X_test, y_train, y_test = train_test_split(X, y, random_state=random_state)\n",
    "    elif X_test is None or y_test is None:\n",
    "        raise ValueError('You need to pass both X_test and y_test.')\n",
    "    else:\n",
    "        X_train = X\n",
    "        y_train = y\n",
    "\n",
    "    return X_train, X_test, y_train, y_test\n"
   ]
  },
  {
   "cell_type": "code",
   "execution_count": 87,
   "metadata": {
    "collapsed": true
   },
   "outputs": [],
   "source": [
    "def general_regressor_standard_workflow(model, X, y,\n",
    "                                        random_state=None,\n",
    "                                        X_test=None,\n",
    "                                        y_test=None):\n",
    "    \n",
    "    X_train, X_test, y_train, y_test = validate_inputs(X, y, X_test, y_test, \n",
    "                                                       random_state=random_state)\n",
    "    \n",
    "    model.fit(X_train, y_train)\n",
    "    train_score = model.score(X_train, y_train)\n",
    "    test_score = model.score(X_test, y_test)\n",
    "    \n",
    "    return {\n",
    "        'model' : model,\n",
    "        'train_score' : train_score,\n",
    "        'test_score' : test_score\n",
    "    }\n",
    "    "
   ]
  },
  {
   "cell_type": "code",
   "execution_count": 88,
   "metadata": {
    "collapsed": true
   },
   "outputs": [],
   "source": [
    "def general_transformer_standard_workflow(transformer, X, y, \n",
    "                                          random_state=None, \n",
    "                                          X_test=None, \n",
    "                                          y_test=None):\n",
    "\n",
    "    X_train, X_test, y_train, y_test = validate_inputs(X, y, X_test, y_test, \n",
    "                                                       random_state=random_state)\n",
    "    \n",
    "    transformer.fit(X_train, y_train)\n",
    "    \n",
    "    X_train = transformer.transform(X_train)\n",
    "    X_test = transformer.transform(X_test)\n",
    "    \n",
    "    return {\n",
    "        'transformer' : transformer, \n",
    "        'X_train'     : X_train,\n",
    "        'X_test'      : X_test,\n",
    "        'y_train'     : y_train,\n",
    "        'y_test'      : y_test\n",
    "    }"
   ]
  },
  {
   "cell_type": "code",
   "execution_count": 89,
   "metadata": {
    "collapsed": true
   },
   "outputs": [],
   "source": [
    "ridge_output = general_regressor_standard_workflow(Ridge(), X, y)\n",
    "lasso_output = general_regressor_standard_workflow(Lasso(), X, y)\n",
    "ols_output = general_regressor_standard_workflow(LinearRegression(), X, y)\n",
    "sgd_output = general_regressor_standard_workflow(SGDRegressor(), X, y)\n",
    "elasticnet_output = general_regressor_standard_workflow(ElasticNet(), X, y, random_state=42)"
   ]
  },
  {
   "cell_type": "code",
   "execution_count": 90,
   "metadata": {
    "collapsed": false
   },
   "outputs": [
    {
     "name": "stdout",
     "output_type": "stream",
     "text": [
      "Ridge:        0.771080212878 0.776362671382\n",
      "Lasso:        0.0 -5.65256863743e-05\n",
      "Elastic Net:  0.0 -0.000329666449384\n",
      "OLS:          0.77130591245 0.772965745071\n",
      "SGD:          0.678957648734 0.702722714243\n"
     ]
    }
   ],
   "source": [
    "print \"Ridge:       \", ridge_output['train_score'], ridge_output['test_score']\n",
    "print \"Lasso:       \", lasso_output['train_score'], lasso_output['test_score']\n",
    "print \"Elastic Net: \", elasticnet_output['train_score'], elasticnet_output['test_score']\n",
    "print \"OLS:         \", ols_output['train_score'], ols_output['test_score']\n",
    "print \"SGD:         \", sgd_output['train_score'], sgd_output['test_score']\n"
   ]
  },
  {
   "cell_type": "code",
   "execution_count": 91,
   "metadata": {
    "collapsed": false
   },
   "outputs": [
    {
     "name": "stdout",
     "output_type": "stream",
     "text": [
      "MAE train 0.458624825624\n",
      "MAE test  0.455817944044\n",
      "MSE train 0.229312412812\n",
      "MSE test  0.226505531232\n",
      "R2  train -4.65100828386e+30\n",
      "R2  test  -1.83763118477e+31\n"
     ]
    }
   ],
   "source": [
    "def load_data_and_split():\n",
    "    #target = target\n",
    "    X_train, X_test, y_train, y_test = train_test_split(X, y, random_state=4)\n",
    "    return X_train, X_test, y_train, y_test\n",
    "\n",
    "load_data_and_split()\n",
    "\n",
    "X_train, X_test, y_train, y_test = load_data_and_split()\n",
    "\n",
    "ridge_regressor = Lasso()\n",
    "\n",
    "scaler = StandardScaler()\n",
    "\n",
    "scaler.fit(X_train)\n",
    "\n",
    "X_train = scaler.transform(X_train)\n",
    "X_test = scaler.transform(X_test)\n",
    "\n",
    "ridge_regressor.fit(X_train, y_train)\n",
    "\n",
    "def score_me(scorer, model, X, y):\n",
    "    return scorer(model.predict(X), y)\n",
    "\n",
    "print(\"MAE train {}\".format(score_me(mean_absolute_error, ridge_regressor, X_train, y_train)))\n",
    "print(\"MAE test  {}\".format(score_me(mean_absolute_error, ridge_regressor, X_test,  y_test)))\n",
    "print(\"MSE train {}\".format(score_me(mean_squared_error, ridge_regressor, X_train, y_train)))\n",
    "print(\"MSE test  {}\".format(score_me(mean_squared_error, ridge_regressor, X_test,  y_test)))\n",
    "print(\"R2  train {}\".format(score_me(r2_score, ridge_regressor, X_train, y_train)))\n",
    "print(\"R2  test  {}\".format(score_me(r2_score, ridge_regressor, X_test,  y_test)))"
   ]
  },
  {
   "cell_type": "markdown",
   "metadata": {
    "focus": false,
    "id": "a7afb2c0-d41e-4779-8216-91cd8dd4473f"
   },
   "source": [
    "#### Thought experiment: What is the baseline accuracy for this model?"
   ]
  },
  {
   "cell_type": "markdown",
   "metadata": {},
   "source": [
    "\n",
    "#### Calculate the baseline accuracy\n",
    "\n",
    "baseline_accuracy = majority_class_N / total_population\n"
   ]
  },
  {
   "cell_type": "code",
   "execution_count": 125,
   "metadata": {
    "collapsed": false
   },
   "outputs": [
    {
     "name": "stdout",
     "output_type": "stream",
     "text": [
      "Baseline Accuracy =  0.512315270936\n"
     ]
    }
   ],
   "source": [
    "baseline_accuracy = 1. - np.mean(df.salary)\n",
    "print \"Baseline Accuracy = \", baseline_accuracy"
   ]
  },
  {
   "cell_type": "markdown",
   "metadata": {},
   "source": [
    "## Metric:\n",
    " Our metric for the logistic regression is going to be the AUC (Area Under the Curve), which was well over the baseline accuracy, so our ROC curve was a success."
   ]
  },
  {
   "cell_type": "markdown",
   "metadata": {},
   "source": [
    "## Benchmark/Conclusion:\n",
    " At about 97% our features were excellent predicters of estimated salary."
   ]
  }
 ],
 "metadata": {
  "anaconda-cloud": {},
  "kernelspec": {
   "display_name": "Python [default]",
   "language": "python",
   "name": "python2"
  },
  "language_info": {
   "codemirror_mode": {
    "name": "ipython",
    "version": 2
   },
   "file_extension": ".py",
   "mimetype": "text/x-python",
   "name": "python",
   "nbconvert_exporter": "python",
   "pygments_lexer": "ipython2",
   "version": "2.7.12"
  }
 },
 "nbformat": 4,
 "nbformat_minor": 0
}
